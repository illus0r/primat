Unstaged changes after reset:
M	.gitignore
M	src/parser/.ipynb_checkpoints/html-munging-checkpoint.ipynb
M	src/parser/html-munging.ipynb
