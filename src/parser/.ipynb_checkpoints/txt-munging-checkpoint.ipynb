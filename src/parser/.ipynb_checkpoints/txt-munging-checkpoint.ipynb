{
 "cells": [
  {
   "cell_type": "code",
   "execution_count": 107,
   "metadata": {},
   "outputs": [
    {
     "name": "stdout",
     "output_type": "stream",
     "text": [
      "﻿Классификация приматов\t2\n",
      "\n",
      "Надот\n"
     ]
    },
    {
     "data": {
      "text/plain": [
       "6856651"
      ]
     },
     "execution_count": 107,
     "metadata": {},
     "output_type": "execute_result"
    }
   ],
   "source": [
    "import lxml.html\n",
    "from lxml import etree\n",
    "import cssselect\n",
    "\n",
    "sourceTxt = open(\"Primat_s.txt\", \"r\")\n",
    "\n",
    "line = sourceTxt.readline()\n",
    "print(line)\n",
    "\n",
    "line = sourceTxt.readline(5)\n",
    "print(line)\n",
    "\n",
    "out = open('out.txt', 'wb')\n",
    "out.write(result)"
   ]
  },
  {
   "cell_type": "code",
   "execution_count": null,
   "metadata": {},
   "outputs": [],
   "source": []
  },
  {
   "cell_type": "code",
   "execution_count": null,
   "metadata": {},
   "outputs": [],
   "source": []
  },
  {
   "cell_type": "code",
   "execution_count": null,
   "metadata": {},
   "outputs": [],
   "source": []
  },
  {
   "cell_type": "code",
   "execution_count": null,
   "metadata": {},
   "outputs": [],
   "source": []
  },
  {
   "cell_type": "code",
   "execution_count": null,
   "metadata": {},
   "outputs": [],
   "source": []
  },
  {
   "cell_type": "code",
   "execution_count": null,
   "metadata": {},
   "outputs": [],
   "source": []
  },
  {
   "cell_type": "code",
   "execution_count": null,
   "metadata": {},
   "outputs": [],
   "source": []
  },
  {
   "cell_type": "code",
   "execution_count": null,
   "metadata": {},
   "outputs": [],
   "source": []
  },
  {
   "cell_type": "code",
   "execution_count": null,
   "metadata": {},
   "outputs": [],
   "source": []
  },
  {
   "cell_type": "code",
   "execution_count": null,
   "metadata": {},
   "outputs": [],
   "source": []
  },
  {
   "cell_type": "code",
   "execution_count": null,
   "metadata": {},
   "outputs": [],
   "source": []
  },
  {
   "cell_type": "code",
   "execution_count": null,
   "metadata": {},
   "outputs": [],
   "source": []
  },
  {
   "cell_type": "code",
   "execution_count": null,
   "metadata": {},
   "outputs": [],
   "source": []
  },
  {
   "cell_type": "code",
   "execution_count": null,
   "metadata": {},
   "outputs": [],
   "source": []
  },
  {
   "cell_type": "code",
   "execution_count": null,
   "metadata": {},
   "outputs": [],
   "source": []
  },
  {
   "cell_type": "code",
   "execution_count": null,
   "metadata": {},
   "outputs": [],
   "source": []
  },
  {
   "cell_type": "code",
   "execution_count": null,
   "metadata": {},
   "outputs": [],
   "source": []
  },
  {
   "cell_type": "code",
   "execution_count": null,
   "metadata": {},
   "outputs": [],
   "source": []
  },
  {
   "cell_type": "code",
   "execution_count": null,
   "metadata": {},
   "outputs": [],
   "source": []
  },
  {
   "cell_type": "code",
   "execution_count": null,
   "metadata": {},
   "outputs": [],
   "source": []
  },
  {
   "cell_type": "code",
   "execution_count": null,
   "metadata": {},
   "outputs": [],
   "source": []
  },
  {
   "cell_type": "code",
   "execution_count": null,
   "metadata": {},
   "outputs": [],
   "source": []
  },
  {
   "cell_type": "code",
   "execution_count": null,
   "metadata": {},
   "outputs": [],
   "source": []
  },
  {
   "cell_type": "code",
   "execution_count": null,
   "metadata": {},
   "outputs": [],
   "source": []
  },
  {
   "cell_type": "code",
   "execution_count": null,
   "metadata": {},
   "outputs": [],
   "source": []
  },
  {
   "cell_type": "code",
   "execution_count": null,
   "metadata": {},
   "outputs": [],
   "source": []
  },
  {
   "cell_type": "code",
   "execution_count": null,
   "metadata": {},
   "outputs": [],
   "source": []
  },
  {
   "cell_type": "code",
   "execution_count": null,
   "metadata": {},
   "outputs": [],
   "source": []
  },
  {
   "cell_type": "code",
   "execution_count": null,
   "metadata": {},
   "outputs": [],
   "source": []
  },
  {
   "cell_type": "code",
   "execution_count": null,
   "metadata": {},
   "outputs": [],
   "source": []
  },
  {
   "cell_type": "code",
   "execution_count": null,
   "metadata": {},
   "outputs": [],
   "source": []
  },
  {
   "cell_type": "code",
   "execution_count": null,
   "metadata": {},
   "outputs": [],
   "source": []
  },
  {
   "cell_type": "code",
   "execution_count": null,
   "metadata": {},
   "outputs": [],
   "source": []
  },
  {
   "cell_type": "code",
   "execution_count": null,
   "metadata": {},
   "outputs": [],
   "source": []
  },
  {
   "cell_type": "code",
   "execution_count": null,
   "metadata": {},
   "outputs": [],
   "source": []
  },
  {
   "cell_type": "code",
   "execution_count": null,
   "metadata": {},
   "outputs": [],
   "source": []
  },
  {
   "cell_type": "code",
   "execution_count": null,
   "metadata": {},
   "outputs": [],
   "source": []
  },
  {
   "cell_type": "code",
   "execution_count": null,
   "metadata": {},
   "outputs": [],
   "source": []
  },
  {
   "cell_type": "code",
   "execution_count": null,
   "metadata": {},
   "outputs": [],
   "source": []
  },
  {
   "cell_type": "code",
   "execution_count": null,
   "metadata": {},
   "outputs": [],
   "source": []
  },
  {
   "cell_type": "code",
   "execution_count": null,
   "metadata": {},
   "outputs": [],
   "source": []
  },
  {
   "cell_type": "code",
   "execution_count": null,
   "metadata": {},
   "outputs": [],
   "source": []
  },
  {
   "cell_type": "code",
   "execution_count": null,
   "metadata": {},
   "outputs": [],
   "source": []
  },
  {
   "cell_type": "code",
   "execution_count": null,
   "metadata": {},
   "outputs": [],
   "source": []
  },
  {
   "cell_type": "code",
   "execution_count": null,
   "metadata": {},
   "outputs": [],
   "source": []
  },
  {
   "cell_type": "code",
   "execution_count": null,
   "metadata": {},
   "outputs": [],
   "source": []
  },
  {
   "cell_type": "code",
   "execution_count": null,
   "metadata": {},
   "outputs": [],
   "source": []
  },
  {
   "cell_type": "code",
   "execution_count": null,
   "metadata": {},
   "outputs": [],
   "source": []
  },
  {
   "cell_type": "code",
   "execution_count": null,
   "metadata": {},
   "outputs": [],
   "source": []
  },
  {
   "cell_type": "code",
   "execution_count": null,
   "metadata": {},
   "outputs": [],
   "source": []
  },
  {
   "cell_type": "code",
   "execution_count": null,
   "metadata": {},
   "outputs": [],
   "source": []
  },
  {
   "cell_type": "code",
   "execution_count": null,
   "metadata": {},
   "outputs": [],
   "source": []
  },
  {
   "cell_type": "code",
   "execution_count": null,
   "metadata": {},
   "outputs": [],
   "source": []
  },
  {
   "cell_type": "code",
   "execution_count": null,
   "metadata": {},
   "outputs": [],
   "source": []
  },
  {
   "cell_type": "code",
   "execution_count": null,
   "metadata": {},
   "outputs": [],
   "source": []
  },
  {
   "cell_type": "code",
   "execution_count": null,
   "metadata": {},
   "outputs": [],
   "source": []
  },
  {
   "cell_type": "code",
   "execution_count": null,
   "metadata": {},
   "outputs": [],
   "source": []
  },
  {
   "cell_type": "code",
   "execution_count": null,
   "metadata": {},
   "outputs": [],
   "source": []
  },
  {
   "cell_type": "code",
   "execution_count": null,
   "metadata": {},
   "outputs": [],
   "source": []
  },
  {
   "cell_type": "code",
   "execution_count": null,
   "metadata": {},
   "outputs": [],
   "source": []
  },
  {
   "cell_type": "code",
   "execution_count": null,
   "metadata": {},
   "outputs": [],
   "source": []
  },
  {
   "cell_type": "code",
   "execution_count": null,
   "metadata": {},
   "outputs": [],
   "source": []
  },
  {
   "cell_type": "code",
   "execution_count": null,
   "metadata": {},
   "outputs": [],
   "source": []
  },
  {
   "cell_type": "code",
   "execution_count": null,
   "metadata": {},
   "outputs": [],
   "source": []
  },
  {
   "cell_type": "code",
   "execution_count": null,
   "metadata": {},
   "outputs": [],
   "source": []
  },
  {
   "cell_type": "code",
   "execution_count": 41,
   "metadata": {},
   "outputs": [
    {
     "ename": "TypeError",
     "evalue": "HTML expects text, not b'<html>\\n<head>\\n\\t<meta http-equiv=\"content-type\" content=\"text/html; charset=utf-8\"/>\\n\\t<title/>\\n\\t<meta name=\"generator\" content=\"LibreOffice 5.4.2.2 (MacOSX)\"/>\\n\\t<meta name=\"author\" content=\"Stas\"/>\\n\\t<meta name=\"created\" content=\"2009-02-25T19:42:00\"/>\\n\\t<meta name=\"changed\" content=\"2018-06-04T14:34:21.995000000\"/>\\n\\t<style type=\"text/css\">\\n\\t\\t@page { size: 8.5in 11in; margin-right: 0.59in; margin-top: 0.79in; margin-bottom: 0.79in }\\n\\t\\tp { margin-bottom: 0.08in; direction: ltr; color: #000000; text-align: justify; orphans: 2; widows: 2 }\\n\\t\\tp.western { font-family: \"Times New Roman\", serif; font-size: 10pt; so-language: ru-RU }\\n\\t\\tp.cjk { font-family: \"Times New Roman\", serif; font-size: 10pt; so-language: zh-CN }\\n\\t\\tp.ctl { font-family: \"Times New Roman\", serif; font-size: 10pt; so-language: ar-SA }\\n\\t\\th1 { margin-bottom: 0.04in; direction: ltr; color: #000000; text-align: center; orphans: 2; widows: 2 }\\n\\t\\th1.western { font-family: \"Arial\", sans-serif; font-size: 14pt; so-language: ru-RU }\\n\\t\\th1.cjk { font-family: \"Times New Roman\", serif; font-size: 14pt; so-language: zh-CN }\\n\\t\\th1.ctl { font-family: \"Arial\", sans-serif; font-size: 10pt; so-language: ar-SA; font-weight: normal }\\n\\t\\th2 { margin-top: 0.17in; margin-bottom: 0.04in; direction: ltr; color: #000000; text-align: justify; orphans: 2; widows: 2 }\\n\\t\\th2.western { font-family: \"Arial\", sans-serif; font-size: 10pt; so-language: ru-RU; font-style: italic }\\n\\t\\th2.cjk { font-family: \"Times New Roman\", serif; font-size: 10pt; so-language: zh-CN; font-style: italic }\\n\\t\\th2.ctl { font-family: \"Arial\", sans-serif; font-size: 10pt; so-language: ar-SA; font-weight: normal }\\n\\t\\th3 { margin-top: 0in; margin-bottom: 0in; direction: ltr; color: #000000; text-align: justify; orphans: 2; widows: 2 }\\n\\t\\th3.western { font-family: \"Times New Roman\", serif; font-size: 10pt; so-language: ru-RU }\\n\\t\\th3.cjk { font-family: \"Times New Roman\", serif; font-size: 10pt; so-language: zh-CN }\\n\\t\\th3.ctl { font-family: \"Times New Roman\", serif; font-size: 10pt; so-language: ar-SA; font-weight: normal }\\n\\t\\ta:link { color: #0000ff }\\n\\t\\ta.western:visited { so-language: en-US }\\n\\t\\ta.cjk:visited { so-language: zh-CN }\\n\\t\\ta.ctl:visited { so-language: hi-IN }\\n\\t</style>\\n</head>\\n<body lang=\"en-US\" text=\"#000000\" link=\"#0000ff\" dir=\"ltr\">\\n<div id=\"Table of Contents1\" dir=\"ltr\">\\n\\t<p lang=\"ru-RU\" align=\"left\" style=\"margin-top: 0.08in; text-transform: uppercase\">\\n\\t<b><a class=\"western\" href=\"#__RefHeading___Toc2070_1570246537\">&#1050;&#1083;&#1072;&#1089;&#1089;&#1080;&#1092;&#1080;&#1082;&#1072;&#1094;&#1080;&#1103;\\n\\t&#1087;&#1088;&#1080;&#1084;&#1072;&#1090;&#1086;&#1074;\\t2</a></b></p>\\n\\t<p lang=\"ru-RU\" align=\"left\" style=\"margin-top: 0.08in; text-transform: uppercase\">\\n\\t<b><a class=\"western\" href=\"#__RefHeading__81_25711451\">&#1053;&#1072;&#1076;&#1086;&#1090;&#1088;&#1103;&#1076;\\n\\tARCHONTA GREGORY, 1910 (McKenna, 1975)\\t2</a></b></p>\\n\\t<p lang=\"ru-RU\" align=\"left\" style=\"margin-top: 0.08in; text-transform: uppercase\">\\n\\t<b><a class=\"western\" href=\"#__RefHeading__83_25711451\">&#1054;&#1090;&#1088;&#1103;&#1076;\\n\\tSCANDENTIA BUTLER, 1972 (WAGNER, 1855)\\t2</a></b></p>\\n\\t<p lang=\"ru-RU\" align=\"left\" style=\"margin-top: 0.08in; text-transform: uppercase\">\\n\\t<b><a class=\"western\" href=\"#__RefHeading___Toc146772_2125148722\">&#1054;&#1090;&#1088;&#1103;&#1076;\\n\\tDERMOPTERA ILLIGER, 1811\\t8</a></b></p>\\n\\t<p lang=\"ru-RU\" align=\"left\" style=\"margin-top: 0.08in; text-transform: uppercase\">\\n\\t<b><a class=\"western\" href=\"#__RefHeading__60_20615627611\">PRIMATOMORPHA\\t12</a></b></p>\\n\\t<p lang=\"ru-RU\" align=\"left\" style=\"margin-top: 0.08in; text-transform: uppercase\">\\n\\t<b><a class=\"western\" href=\"#__RefHeading___Toc746_1289271604\">&#1086;&#1090;&#1088;&#1103;&#1076;\\n\\tINCERTAE SEDIS\\t12</a></b></p>\\n\\t<p lang=\"ru-RU\" align=\"left\" style=\"margin-top: 0.08in; text-transform: uppercase\">\\n\\t<b><a class=\"western\" href=\"#__RefHeading___Toc748_1289271604\">&#1054;&#1090;&#1088;&#1103;&#1076;\\n\\tPLESIADAPIFORMES Simons et Tattersall, 1972 (in Simons, 1972)\\t14</a></b></p>\\n\\t<p lang=\"ru-RU\" align=\"left\" style=\"margin-top: 0.08in; text-transform: uppercase\">\\n\\t<b><a class=\"western\" href=\"#__RefHeading___Toc146774_2125148722\">&#1086;&#1090;&#1088;&#1103;&#1076;\\n\\tPRIMATES LINNAEUS, 1758\\t41</a></b></p>\\n\\t<p lang=\"ru-RU\" align=\"left\" style=\"margin-left: 0.14in; margin-bottom: 0in; font-variant: small-caps\">\\n\\t<a class=\"western\" href=\"#__RefHeading___Toc146776_2125148722\">&#1087;&#1086;&#1076;&#1086;&#1090;&#1088;&#1103;&#1076;\\n\\tSTREPSIRRHINI &#201;.GEOFFROY SAINT-HILAIRE, 1812\\t41</a></p>\\n\\t<p lang=\"ru-RU\" align=\"left\" style=\"margin-left: 0.14in; margin-bottom: 0in; font-variant: small-caps\">\\n\\t<a class=\"western\" href=\"#__RefHeading___Toc146778_2125148722\">&#1080;&#1085;&#1092;&#1088;&#1072;&#1086;&#1090;&#1088;&#1103;&#1076;\\n\\tADAPIFORMES Szalay et Delson, 1979\\t42</a></p>\\n\\t<p lang=\"ru-RU\" align=\"left\" style=\"margin-left: 0.14in; margin-bottom: 0in; font-variant: small-caps\">\\n\\t<a class=\"western\" href=\"#__RefHeading___Toc146780_2125148722\">&#1080;&#1085;&#1092;&#1088;&#1072;&#1086;&#1090;&#1088;&#1103;&#1076;\\n\\tLEMURIFORMES GREGORY, 1915 (Gray, 1821)\\t62</a></p>\\n\\t<p lang=\"ru-RU\" align=\"left\" style=\"margin-left: 0.14in; margin-bottom: 0in; font-variant: small-caps\">\\n\\t<a class=\"western\" href=\"#__RefHeading___Toc146782_2125148722\">&#1080;&#1085;&#1092;&#1088;&#1072;&#1086;&#1090;&#1088;&#1103;&#1076;\\n\\tLORISIFORMES Gregory, 1915\\t90</a></p>\\n\\t<p lang=\"ru-RU\" align=\"left\" style=\"margin-left: 0.14in; margin-bottom: 0in; font-variant: small-caps\">\\n\\t<a class=\"western\" href=\"#__RefHeading___Toc760_1289271604\">&#1080;&#1085;&#1092;&#1088;&#1072;&#1086;&#1090;&#1088;&#1103;&#1076;\\n\\tCHIROMYIFORMES Anthony and Coupin, 1931\\t108</a></p>\\n\\t<p lang=\"ru-RU\" align=\"left\" style=\"margin-left: 0.14in; margin-bottom: 0in; font-variant: small-caps\">\\n\\t<a class=\"western\" href=\"#__RefHeading___Toc146784_2125148722\">&#1087;&#1086;&#1076;&#1086;&#1090;&#1088;&#1103;&#1076;\\n\\tHAPLORRHINI POCOCK, 1918\\t109</a></p>\\n\\t<p lang=\"ru-RU\" align=\"left\" style=\"margin-left: 0.14in; margin-bottom: 0in; font-variant: small-caps\">\\n\\t<a class=\"western\" href=\"#__RefHeading___Toc146786_2125148722\">&#1075;&#1080;&#1087;&#1086;&#1090;&#1088;&#1103;&#1076;\\n\\tTARSIIFORMES\\t110</a></p>\\n\\t<p lang=\"ru-RU\" align=\"left\" style=\"margin-left: 0.14in; margin-bottom: 0in; font-variant: small-caps\">\\n\\t<a class=\"western\" href=\"#__RefHeading___Toc146788_2125148722\">&#1080;&#1085;&#1092;&#1088;&#1072;&#1086;&#1090;&#1088;&#1103;&#1076;\\n\\tOMOMYIFORMES\\t110</a></p>\\n\\t<p lang=\"ru-RU\" align=\"left\" style=\"margin-left: 0.14in; margin-bottom: 0in; font-variant: small-caps\">\\n\\t<a class=\"western\" href=\"#__RefHeading___Toc146790_2125148722\">&#1080;&#1085;&#1092;&#1088;&#1072;&#1086;&#1090;&#1088;&#1103;&#1076;\\n\\tTARSIIFORMES GREGORY, 1915\\t128</a></p>\\n\\t<p lang=\"ru-RU\" align=\"left\" style=\"margin-left: 0.14in; margin-bottom: 0in; font-variant: small-caps\">\\n\\t<a class=\"western\" href=\"#__RefHeading___Toc146792_2125148722\">&#1075;&#1080;&#1087;&#1086;&#1090;&#1088;&#1103;&#1076;\\n\\tANTHROPOIDEA\\t133</a></p>\\n\\t<p lang=\"ru-RU\" align=\"left\" style=\"margin-left: 0.14in; margin-bottom: 0in; font-variant: small-caps\">\\n\\t<a class=\"western\" href=\"#__RefHeading___Toc146794_2125148722\">&#1080;&#1085;&#1092;&#1088;&#1072;&#1086;&#1090;&#1088;&#1103;&#1076;\\n\\tINCERTAE SEDIS\\t133</a></p>\\n\\t<p lang=\"ru-RU\" align=\"left\" style=\"margin-left: 0.14in; margin-bottom: 0in; font-variant: small-caps\">\\n\\t<a class=\"western\" href=\"#__RefHeading___Toc774_1289271604\">&#1080;&#1085;&#1092;&#1088;&#1072;&#1086;&#1090;&#1088;&#1103;&#1076;\\n\\tEOSIMIIFORMES Chaimaneea, Chavasseau, Beard, Kyaw, Soe, Seine,\\n\\tLazzaria, Marivaux, Marandat, Swe, Rugbumrung, Lwin, Valentin,\\n\\tZin-Maung-Maung-Thein et Jaeger, 2012\\t139</a></p>\\n\\t<p lang=\"ru-RU\" align=\"left\" style=\"margin-left: 0.14in; margin-bottom: 0in; font-variant: small-caps\">\\n\\t<a class=\"western\" href=\"#__RefHeading___Toc146796_2125148722\">&#1080;&#1085;&#1092;&#1088;&#1072;&#1086;&#1090;&#1088;&#1103;&#1076;\\n\\tPLATYRRHINI &#201;.GEOFFROY, 1812\\t142</a></p>\\n\\t<p lang=\"ru-RU\" align=\"left\" style=\"margin-left: 0.14in; margin-bottom: 0in; font-variant: small-caps\">\\n\\t<a class=\"western\" href=\"#__RefHeading___Toc146798_2125148722\">&#1080;&#1085;&#1092;&#1088;&#1072;&#1086;&#1090;&#1088;&#1103;&#1076;\\n\\tCATARRHINI &#201;.GEOFFROY, 1812\\t192</a></p>\\n\\t<p lang=\"ru-RU\" align=\"left\" style=\"margin-left: 0.14in; margin-bottom: 0in; font-variant: small-caps\">\\n\\t<a class=\"western\" href=\"#__RefHeading___Toc146800_2125148722\">&#1087;&#1072;&#1088;&#1074;&#1086;&#1090;&#1088;&#1103;&#1076;\\n\\tEOCATARRHINI\\t192</a></p>\\n\\t<p lang=\"ru-RU\" align=\"left\" style=\"margin-left: 0.14in; margin-bottom: 0in; font-variant: small-caps\">\\n\\t<a class=\"western\" href=\"#__RefHeading___Toc146802_2125148722\">&#1087;&#1072;&#1088;&#1074;&#1086;&#1090;&#1088;&#1103;&#1076;\\n\\tEUCATARRHINI\\t200</a></p>\\n\\t<p lang=\"ru-RU\" align=\"left\" style=\"margin-left: 0.28in; margin-bottom: 0in\">\\n\\t<i><a class=\"western\" href=\"#__RefHeading___Toc146804_2125148722\">&#1085;&#1072;&#1076;&#1089;&#1077;&#1084;.\\n\\tSaadanioidea Zalmout, Sanders, MacLatchy, Gunnell, Al-Mufarreh, Ali,\\n\\tNasser, Al-Masari, Al-Sobhi, Nadhra, Matari, Wilson et Gingerich,\\n\\t2010\\t201</a></i></p>\\n\\t<p lang=\"ru-RU\" align=\"left\" style=\"margin-left: 0.28in; margin-bottom: 0in\">\\n\\t<i><a class=\"western\" href=\"#__RefHeading___Toc146806_2125148722\">&#1085;&#1072;&#1076;&#1089;&#1077;&#1084;.\\n\\tCercopithecoidea Gray, 1821 (Gregory et Hellman, 1923)\\t201</a></i></p>\\n\\t<p lang=\"ru-RU\" align=\"left\" style=\"margin-left: 0.28in; margin-bottom: 0in\">\\n\\t<i><a class=\"western\" href=\"#__RefHeading___Toc146808_2125148722\">&#1085;&#1072;&#1076;&#1089;&#1077;&#1084;.\\n\\tHominoidea Gray, 1825\\t266</a></i></p>\\n\\t<p lang=\"ru-RU\" align=\"left\" style=\"margin-top: 0.08in; text-transform: uppercase\">\\n\\t<b><a class=\"western\" href=\"#__RefHeading___Toc146810_2125148722\">&#1054;&#1096;&#1080;&#1073;&#1086;&#1095;&#1085;&#1086;\\n\\t&#1087;&#1088;&#1080;&#1095;&#1080;&#1089;&#1083;&#1103;&#1074;&#1096;&#1080;&#1077;&#1089;&#1103; &#1082; &#1087;&#1088;&#1080;&#1084;&#1072;&#1090;&#1072;&#1084; &#1090;&#1072;&#1082;&#1089;&#1086;&#1085;&#1099;\\t313</a></b></p>\\n\\t<p lang=\"ru-RU\" align=\"left\" style=\"margin-top: 0.08in; text-transform: uppercase\">\\n\\t<b><a class=\"western\" href=\"#__RefHeading___Toc146812_2125148722\">&#1055;&#1056;&#1048;&#1052;&#1045;&#1063;&#1040;&#1053;&#1048;&#1071;\\t318</a></b></p>\\n\\t<p lang=\"ru-RU\" align=\"left\" style=\"margin-left: 0.28in; margin-bottom: 0in\">\\n\\t<i><a class=\"western\" href=\"#__RefHeading___Toc146814_2125148722\">&#1054;&#1090;&#1083;&#1080;&#1095;&#1080;&#1103;\\n\\t&#1090;&#1072;&#1082;&#1089;&#1086;&#1085;&#1086;&#1074;\\t318</a></i></p>\\n\\t<p lang=\"ru-RU\" align=\"left\" style=\"margin-left: 0.28in; margin-bottom: 0in\">\\n\\t<i><a class=\"western\" href=\"#__RefHeading___Toc146816_2125148722\">&#1043;&#1077;&#1086;&#1075;&#1088;&#1072;&#1092;&#1080;&#1095;&#1077;&#1089;&#1082;&#1080;&#1077;\\n\\t&#1089;&#1080;&#1085;&#1086;&#1085;&#1080;&#1084;&#1099;\\t323</a></i></p>\\n\\t<p lang=\"ru-RU\" align=\"left\" style=\"margin-top: 0.08in; text-transform: uppercase\">\\n\\t<b><a class=\"western\" href=\"#__RefHeading___Toc146818_2125148722\">&#1050;&#1051;&#1040;&#1057;&#1057;&#1048;&#1060;&#1048;&#1050;&#1040;&#1062;&#1048;&#1048;\\n\\t&#1087;&#1086; &#1088;&#1072;&#1079;&#1085;&#1099;&#1084; &#1072;&#1074;&#1090;&#1086;&#1088;&#1072;&#1084;\\t323</a></b></p>\\n\\t<p lang=\"ru-RU\" align=\"left\" style=\"margin-left: 0.14in; margin-bottom: 0in; font-variant: small-caps\">\\n\\t<a class=\"western\" href=\"#__RefHeading___Toc146820_2125148722\">&#1053;&#1077;&#1082;&#1080;&#1081;\\n\\t&#1074;&#1072;&#1088;&#1080;&#1072;&#1085;&#1090;\\t323</a></p>\\n\\t<p lang=\"ru-RU\" align=\"left\" style=\"margin-left: 0.14in; margin-bottom: 0in; font-variant: small-caps\">\\n\\t<a class=\"western\" href=\"#__RefHeading___Toc146822_2125148722\">&#1055;&#1086;\\n\\tC. Groves\\t330</a></p>\\n\\t<p lang=\"ru-RU\" align=\"left\" style=\"margin-left: 0.14in; margin-bottom: 0in; font-variant: small-caps\">\\n\\t<a class=\"western\" href=\"#__RefHeading___Toc146824_2125148722\">&#1055;&#1086;\\n\\tSimons (1972)\\t341</a></p>\\n\\t<p lang=\"ru-RU\" align=\"left\" style=\"margin-left: 0.14in; margin-bottom: 0in; font-variant: small-caps\">\\n\\t<a class=\"western\" href=\"#__RefHeading___Toc806_1289271604\">&#1055;&#1086;\\n\\tDelson, 1977\\t348</a></p>\\n\\t<p lang=\"ru-RU\" align=\"left\" style=\"margin-left: 0.14in; margin-bottom: 0in; font-variant: small-caps\">\\n\\t<a class=\"western\" href=\"#__RefHeading___Toc146826_2125148722\">&#1055;&#1086;\\n\\tSchwartz et al. (1978)\\t350</a></p>\\n\\t<p lang=\"ru-RU\" align=\"left\" style=\"margin-left: 0.14in; margin-bottom: 0in; font-variant: small-caps\">\\n\\t<a class=\"western\" href=\"#__RefHeading___Toc146828_2125148722\">&#1055;&#1086;\\n\\tSzalay and Delson (1979)\\t354</a></p>\\n\\t<p lang=\"ru-RU\" align=\"left\" style=\"margin-left: 0.14in; margin-bottom: 0in; font-variant: small-caps\">\\n\\t<a class=\"western\" href=\"#__RefHeading___Toc812_1289271604\">&#1055;&#1086;\\n\\tSzalay et al., 1987\\t362</a></p>\\n\\t<p lang=\"ru-RU\" align=\"left\" style=\"margin-left: 0.14in; margin-bottom: 0in; font-variant: small-caps\">\\n\\t<a class=\"western\" href=\"#__RefHeading___Toc814_1289271604\">&#1055;&#1086;\\n\\tHarrison, 1987\\t362</a></p>\\n\\t<p lang=\"ru-RU\" align=\"left\" style=\"margin-left: 0.14in; margin-bottom: 0in; font-variant: small-caps\">\\n\\t<a class=\"western\" href=\"#__RefHeading___Toc146830_2125148722\">&#1055;&#1086;\\n\\tFleagle (1988)\\t363</a></p>\\n\\t<p lang=\"ru-RU\" align=\"left\" style=\"margin-left: 0.14in; margin-bottom: 0in; font-variant: small-caps\">\\n\\t<a class=\"western\" href=\"#__RefHeading___Toc146832_2125148722\">&#1055;&#1086;\\n\\tFleagle (1999)\\t370</a></p>\\n\\t<p lang=\"ru-RU\" align=\"left\" style=\"margin-left: 0.14in; margin-bottom: 0in; font-variant: small-caps\">\\n\\t<a class=\"western\" href=\"#__RefHeading___Toc146834_2125148722\">&#1055;&#1086;\\n\\tThe Primate Fossil Record, 2002\\t377</a></p>\\n\\t<p lang=\"ru-RU\" align=\"left\" style=\"margin-left: 0.14in; margin-bottom: 0in; font-variant: small-caps\">\\n\\t<a class=\"western\" href=\"#__RefHeading___Toc146836_2125148722\">&#1055;&#1086;\\n\\tHarrison, 2005\\t377</a></p>\\n\\t<p lang=\"ru-RU\" align=\"left\" style=\"margin-left: 0.14in; margin-bottom: 0in; font-variant: small-caps\">\\n\\t<a class=\"western\" href=\"#__RefHeading___Toc146838_2125148722\">Outline\\n\\tclassification of Primates\\t377</a></p>\\n\\t<p lang=\"ru-RU\" align=\"left\" style=\"margin-left: 0.14in; margin-bottom: 0in; font-variant: small-caps\">\\n\\t<a class=\"western\" href=\"#__RefHeading___Toc146840_2125148722\">&#1055;&#1086;\\n\\tGoodman et al., 1998\\t377</a></p>\\n\\t<p lang=\"ru-RU\" align=\"left\" style=\"margin-left: 0.14in; margin-bottom: 0in; font-variant: small-caps\">\\n\\t<a class=\"western\" href=\"#__RefHeading___Toc146842_2125148722\">&#1055;&#1086;\\n\\tMcGraw-Hill Encyclopedia of Science&amp;Technology, 9th Edition.\\n\\t2002\\t377</a></p>\\n\\t<p lang=\"ru-RU\" align=\"left\" style=\"margin-left: 0.14in; margin-bottom: 0in; font-variant: small-caps\">\\n\\t<a class=\"western\" href=\"#__RefHeading___Toc146844_2125148722\">&#1055;&#1086;\\n\\tMoya-Sola et al., 2009\\t377</a></p>\\n\\t<p lang=\"ru-RU\" align=\"left\" style=\"margin-left: 0.14in; margin-bottom: 0in; font-variant: small-caps\">\\n\\t<a class=\"western\" href=\"#__RefHeading___Toc146846_2125148722\">&#1057;&#1080;&#1089;&#1090;&#1077;&#1084;&#1072;&#1090;&#1080;&#1082;&#1072;\\n\\t&#1072;&#1074;&#1089;&#1090;&#1088;&#1072;&#1083;&#1086;&#1087;&#1080;&#1090;&#1077;&#1082;&#1086;&#1074;\\t383</a></p>\\n\\t<p lang=\"ru-RU\" align=\"left\" style=\"margin-left: 0.14in; margin-bottom: 0in; font-variant: small-caps\">\\n\\t<a class=\"western\" href=\"#__RefHeading___Toc146848_2125148722\">&#1057;&#1080;&#1089;&#1090;&#1077;&#1084;&#1072;&#1090;&#1080;&#1082;&#1072;\\n\\t\"&#1056;&#1072;&#1085;&#1085;&#1080;&#1093; Homo\"\\t383</a></p>\\n\\t<p lang=\"ru-RU\" align=\"left\" style=\"margin-left: 0.14in; margin-bottom: 0in; font-variant: small-caps\">\\n\\t<a class=\"western\" href=\"#__RefHeading___Toc146850_2125148722\">&#1057;&#1080;&#1089;&#1090;&#1077;&#1084;&#1072;&#1090;&#1080;&#1082;&#1072;\\n\\t&#1088;&#1086;&#1076;&#1072; Homo\\t385</a></p>\\n</div>\\n<p lang=\"ru-RU\" class=\"western\" style=\"margin-bottom: 0in\"><br/>\\n\\n</p>\\n<div id=\"Section1\" dir=\"ltr\">\\n\\t<ol>\\n\\t\\t<li/>\\n<h1 lang=\"ru-RU\" class=\"western\" style=\"margin-top: 0.08in; margin-bottom: 0.08in\"><a name=\"__RefHeading___Toc2070_1570246537\"/>\\n\\t\\t<font face=\"Times New Roman, serif\">&#1050;&#1083;&#1072;&#1089;&#1089;&#1080;&#1092;&#1080;&#1082;&#1072;&#1094;&#1080;&#1103;\\n\\t\\t&#1087;&#1088;&#1080;&#1084;&#1072;&#1090;&#1086;&#1074;</font></h1>\\n\\t</ol>\\n\\t<p lang=\"ru-RU\" class=\"western\" style=\"margin-bottom: 0in\">http://www.fmnh.helsinki.fi/users/haaramo/default.htm#Basal_Eukaryotae</p>\\n\\t<p lang=\"ru-RU\" class=\"western\" style=\"margin-bottom: 0in\"><br/>\\n\\n\\t</p>\\n\\t<p lang=\"ru-RU\" class=\"western\" style=\"margin-bottom: 0in\">http://www.fmnh.helsinki.fi/users/haaramo/Metazoa/Deuterostoma/Chordata/Synapsida/Eutheria/Basal_Archonta/Archonta.htm</p>\\n\\t<p lang=\"ru-RU\" class=\"western\" style=\"margin-bottom: 0in\"><br/>\\n\\n\\t</p>\\n\\t<ol start=\"2\">\\n\\t\\t<li/>\\n<h1 lang=\"ru-RU\" class=\"western\"><a name=\"__RefHeading__81_25711451\"/>\\n\\t\\t<font face=\"Times New Roman, serif\">&#1053;&#1072;&#1076;&#1086;&#1090;&#1088;&#1103;&#1076;</font><font face=\"Times New Roman, serif\">\\n\\t\\t</font><font face=\"Times New Roman, serif\">ARCHONTA\\n\\t\\tGREGORY, 1910 (McKenna, 1975)</font></h1>\\n\\t</ol>\\n\\t<p lang=\"ru-RU\" class=\"western\" align=\"center\" style=\"margin-bottom: 0in\">\\n\\t<b>EUARCHONTOGLIRES</b></p>\\n\\t<p lang=\"ru-RU\" class=\"western\" align=\"center\" style=\"margin-bottom: 0in\">\\n\\t(=UNGUICULATA</p>\\n\\t<p lang=\"ru-RU\" class=\"western\" align=\"center\" style=\"margin-bottom: 0in\">\\n\\t&#1074;&#1082;&#1083;&#1102;&#1095;&#1072;&#1077;&#1090; &#1077;&#1097;&#1105; Anagalida\\n\\t(=Glires\\n\\t(&#1073;&#1077;&#1079;\\n\\t&#1087;&#1088;&#1099;&#1075;&#1091;&#1085;&#1095;&#1080;&#1082;&#1086;&#1074;);\\n\\t&#1086;&#1090;&#1088;&#1103;&#1076;&#1099;:\\n\\t&#1074;&#1099;&#1084;&#1077;&#1088;&#1096;&#1080;&#1077; Anagaliformes =Anagaloidea\\n\\t=Anagalida,\\n\\t&#1087;&#1088;&#1099;&#1075;&#1091;&#1085;&#1095;&#1080;&#1082;&#1080;, &#1075;&#1088;&#1099;&#1079;&#1091;&#1085;&#1099;, &#1079;&#1072;&#1081;&#1094;&#1077;&#1086;&#1073;&#1088;&#1072;&#1079;&#1085;&#1099;&#1077;))</p>\\n\\t<p lang=\"ru-RU\" class=\"western\" align=\"center\" style=\"margin-bottom: 0in\">\\n\\t<b>&#1082;&#1083;&#1072;&#1076;&#1072; </b><b>EUARCHONTA</b></p>\\n\\t<p class=\"western\" align=\"center\" style=\"margin-bottom: 0in\"><b>(=PRIMATOMORPHA)</b></p>\\n\\t<ol start=\"3\">\\n\\t\\t<li/>\\n<h1 lang=\"ru-RU\" class=\"western\"><a name=\"__RefHeading__83_25711451\"/>\\n\\t\\t<font face=\"Times New Roman, serif\">&#1054;&#1090;&#1088;&#1103;&#1076;</font><font face=\"Times New Roman, serif\">\\n\\t\\tSCANDENTIA BUTLER, 1972 (WAGNER, 1855)</font></h1>\\n\\t</ol>\\n\\t<p lang=\"ru-RU\" class=\"western\" align=\"center\" style=\"margin-bottom: 0in\">\\n\\t(=<b>&#1087;&#1086;&#1076;&#1086;&#1090;&#1088;&#1103;&#1076;</b><b>\\n\\tTUPAIIFORMES </b><b>&#1086;&#1090;&#1088;&#1103;&#1076;&#1072;</b><b>\\n\\tPRIMATES</b></p>\\n\\t<p lang=\"ru-RU\" class=\"western\" align=\"center\" style=\"margin-bottom: 0in\">\\n\\t(=&#1087;&#1086;&#1076;&#1086;&#1090;&#1088;&#1103;&#1076;\\n\\tTUPAIOIDEA G.E.Dobson, 1882</p>\\n\\t<p lang=\"ru-RU\" class=\"western\" align=\"center\" style=\"margin-bottom: 0in\">\\n\\t=&#1086;&#1090;&#1088;&#1103;&#1076; PROPRIMATES\\n\\tGingerich, 1989, &#1074;&#1082;&#1083;&#1102;&#1095;&#1072;&#1103; &#1087;&#1086;&#1076;&#1086;&#1090;&#1088;&#1103;&#1076;\\n\\tPLESIADAPIFORMES</p>\\n\\t<p lang=\"ru-RU\" class=\"western\" align=\"center\" style=\"margin-bottom: 0in\">\\n\\t=&#1089;&#1077;&#1082;&#1094;&#1080;&#1080;\\n\\tTUPAIIFORMES &#1074; &#1087;&#1086;&#1076;&#1086;&#1090;&#1088;&#1103;&#1076;&#1077;\\n\\tPRAESIMII (&#1074;&#1082;&#1083;&#1102;&#1095;&#1072;&#1103; &#1087;&#1083;&#1077;&#1079;&#1080;&#1072;&#1076;&#1072;&#1087;&#1080;&#1089;&#1086;&#1074;&#1099;&#1093;)</p>\\n\\t<p class=\"western\" align=\"center\" style=\"margin-bottom: 0in\">=Tupayae\\n\\t=Scandentiformes</p>\\n\\t<p lang=\"ru-RU\" class=\"western\" align=\"center\" style=\"margin-bottom: 0in\">\\n\\t<font color=\"#131413\"><font size=\"2\" style=\"font-size: 10pt\">=&#1085;&#1072;&#1076;&#1089;&#1077;&#1084;.\\n\\t</font></font><font color=\"#131413\"><font size=\"2\" style=\"font-size: 10pt\">Tupaioidea\\n\\t</font></font><font color=\"#131413\"><font size=\"2\" style=\"font-size: 10pt\">&#1087;&#1086;&#1076;&#1086;&#1090;&#1088;&#1103;&#1076;&#1072;\\n\\t</font></font><font color=\"#131413\"><font size=\"2\" style=\"font-size: 10pt\">Proteutheria\\n\\t</font></font><font color=\"#131413\"><font size=\"2\" style=\"font-size: 10pt\">&#1086;&#1090;&#1088;&#1103;&#1076;&#1072;\\n\\tINSECTIVORA</font></font><font color=\"#131413\"><font size=\"2\" style=\"font-size: 10pt\">\\n\\t</font></font><font color=\"#131413\"><font size=\"2\" style=\"font-size: 10pt\">&#1087;&#1086;\\n\\tVan Valen, 1967</font></font></p>\\n\\t<p lang=\"ru-RU\" class=\"western\" align=\"center\" style=\"margin-bottom: 0in\">\\n\\t=&#1089;&#1077;&#1084;. Tupaiidae\\n\\t&#1087;&#1086;&#1076;&#1086;&#1090;&#1088;&#1103;&#1076;&#1072; MENOTYPHLA &#1086;&#1090;&#1088;&#1103;&#1076;&#1072;\\n\\tINSECTIVORA (&#1053;&#1040;&#1057;&#1045;&#1050;&#1054;&#1052;&#1054;&#1071;&#1044;&#1053;&#1067;&#1045;)</p>\\n\\t<p lang=\"ru-RU\" class=\"western\" align=\"center\" style=\"margin-bottom: 0in\">\\n\\t=&#1075;&#1088;&#1091;&#1087;&#1087;&#1072; &#1074; &#1087;&#1086;&#1076;&#1086;&#1090;&#1088;&#1103;&#1076;&#1077; &#1080;&#1083;&#1080; &#1086;&#1090;&#1088;&#1103;&#1076;&#1077; STREPSIRHINI</p>\\n\\t<p lang=\"ru-RU\" class=\"western\" align=\"center\" style=\"margin-bottom: 0in\">\\n\\t=(&#1091;&#1089;&#1090;&#1072;&#1088;.) &#1087;&#1086;&#1076;&#1089;&#1077;&#1084;. &#1074; LEMURIFORMES))</p>\\n\\t<p lang=\"ru-RU\" class=\"western\" align=\"center\" style=\"margin-bottom: 0in\">\\n\\t(&#1058;&#1059;&#1055;&#1040;&#1049;&#1048;, tree shrews)</p>\\n\\t<p lang=\"ru-RU\" class=\"western\" style=\"margin-bottom: 0in\"><br/>\\n\\n\\t</p>\\n\\t<p class=\"western\" align=\"center\" style=\"margin-bottom: 0in\">---------------------------------------------------------------------------</p>\\n\\t<p lang=\"ru-RU\" class=\"western\" align=\"center\" style=\"margin-bottom: 0in\">\\n\\t&#1089;&#1077;&#1084;. <b>Tupaiidae</b>\\n\\tMivart, 1868 (Gray, 1825)</p>\\n\\t<p lang=\"ru-RU\" class=\"western\" align=\"center\" style=\"margin-bottom: 0in\">\\n\\t (=Cladobatae =Cladobatida =Cladobatidina\\n\\t=Cladobatina =Glisoricina =Glisoricinae =Tupaiadae =Tupaina Gray,\\n\\t1825 =Tupajadae =Tupayae =Tupayidae</p>\\n\\t<p lang=\"ru-RU\" class=\"western\" align=\"center\" style=\"margin-bottom: 0in\">\\n\\t<font color=\"#131413\"><font size=\"2\" style=\"font-size: 10pt\">&#1074;&#1082;&#1083;&#1102;&#1095;&#1072;&#1083;&#1086;&#1089;&#1100;\\n\\t&#1074; &#1085;&#1072;&#1076;&#1089;&#1077;&#1084;. </font></font><font color=\"#131413\"><font size=\"2\" style=\"font-size: 10pt\">Tupaioidea\\n\\t</font></font><font color=\"#131413\"><font size=\"2\" style=\"font-size: 10pt\">&#1087;&#1086;&#1076;&#1086;&#1090;&#1088;&#1103;&#1076;&#1072;\\n\\t</font></font><font color=\"#131413\"><font size=\"2\" style=\"font-size: 10pt\">Proteutheria\\n\\t</font></font><font color=\"#131413\"><font size=\"2\" style=\"font-size: 10pt\">&#1086;&#1090;&#1088;&#1103;&#1076;&#1072;\\n\\tINSECTIVORA</font></font><font color=\"#131413\"><font size=\"2\" style=\"font-size: 10pt\">\\n\\t</font></font><font color=\"#131413\"><font size=\"2\" style=\"font-size: 10pt\">&#1087;&#1086;\\n\\tVan Valen, 1967</font></font>)</p>\\n\\t<p lang=\"ru-RU\" class=\"western\" align=\"center\" style=\"margin-bottom: 0in\">\\n\\t(&#1058;&#1091;&#1087;&#1072;&#1081;&#1077;&#1074;&#1099;&#1077;,\\n\\ttree shrews)</p>\\n\\t<p class=\"western\" align=\"center\" style=\"margin-bottom: 0in\">2133/3133</p>\\n\\t<p class=\"western\" align=\"center\" style=\"margin-bottom: 0in\">--------------------------------------------------------------------------------------------------------------------------------------</p>\\n\\t<p class=\"western\" align=\"center\" style=\"margin-bottom: 0in\">---------------*****---------------</p>\\n\\t<p lang=\"ru-RU\" class=\"western\" align=\"center\" style=\"margin-bottom: 0in\">\\n\\t&#1087;&#1086;&#1076;&#1089;&#1077;&#1084;. <b>Tupaiinae</b>\\n\\tLyon, 1913 (Gray, 1825)</p>\\n\\t<p lang=\"ru-RU\" class=\"western\" align=\"center\" style=\"margin-bottom: 0in\">\\n\\t(=Cladobatina Bonaparte, 1838 =Glisoricina Pomel, 1848)</p>\\n\\t<p lang=\"ru-RU\" class=\"western\" align=\"center\" style=\"margin-bottom: 0in\">\\n\\t----------------------------------------------------------------------</p>\\n\\t\\n\\t\\t<col width=\"246\"/>\\n\\t\\t<col width=\"236\"/>\\n\\t\\t<col width=\"270\"/>\\n\\t\\t<tr valign=\"top\">\\n\\t\\t\\t<td width=\"246\" style=\"border-top: 1px solid #000000; border-bottom: 1px solid #000000; border-left: 1px solid #000000; border-right: none; padding-top: 0in; padding-bottom: 0in; padding-left: 0.05in; padding-right: 0in\">\\n\\t\\t\\t\\t<p lang=\"ru-RU\" class=\"western\" align=\"center\" style=\"margin-bottom: 0in\"><a name=\"Gattung1\"/>\\n\\t\\t\\t\\tAnathana Lyon, 1913</p>\\n\\t\\t\\t\\t<p lang=\"ru-RU\" class=\"western\" align=\"center\">(&#1080;&#1085;&#1076;&#1080;&#1081;&#1089;&#1082;&#1072;&#1103;\\n\\t\\t\\t\\t&#1090;&#1091;&#1087;&#1072;&#1081;&#1103;, Indian tree shrew)</p>\\n\\t\\t\\t</td>\\n\\t\\t\\t<td width=\"236\" style=\"border-top: 1px solid #000000; border-bottom: 1px solid #000000; border-left: 1px solid #000000; border-right: none; padding-top: 0in; padding-bottom: 0in; padding-left: 0.05in; padding-right: 0in\">\\n\\t\\t\\t\\t<p lang=\"ru-RU\" class=\"western\">&#1089;&#1086;&#1074;&#1088;. &#1089;.&#1048;&#1085;&#1076;&#1080;&#1103;, &#1085;&#1072;\\n\\t\\t\\t\\t&#1089;&#1077;&#1074;&#1077;&#1088; &#1076;&#1086; &#1048;&#1085;&#1076;&#1072;</p>\\n\\t\\t\\t</td>\\n\\t\\t\\t<td width=\"270\" style=\"border: 1px solid #000000; padding: 0in 0.05in\">\\n\\t\\t\\t\\t<p lang=\"ru-RU\" class=\"western\"><br/>\\n\\n\\t\\t\\t\\t</p>\\n\\t\\t\\t</td>\\n\\t\\t</tr>\\n\\t\\t<tr valign=\"top\">\\n\\t\\t\\t<td width=\"246\" style=\"border-top: 1px solid #000000; border-bottom: 1px solid #000000; border-left: 1px solid #000000; border-right: none; padding-top: 0in; padding-bottom: 0in; padding-left: 0.05in; padding-right: 0in\">\\n\\t\\t\\t\\t<p lang=\"ru-RU\" class=\"western\" style=\"margin-bottom: 0in\">Anathana\\n\\t\\t\\t\\tellioti (Waterhouse, 1850 (&#1086;&#1096;&#1080;&#1073;&#1086;&#1095;&#1085;&#1086;\\n\\t\\t\\t\\t1849))</p>\\n\\t\\t\\t\\t<p lang=\"ru-RU\" class=\"western\" style=\"margin-bottom: 0in\">(&#1080;&#1085;&#1076;&#1080;&#1081;&#1089;&#1082;&#1072;&#1103;\\n\\t\\t\\t\\t&#1090;&#1091;&#1087;&#1072;&#1081;&#1103;, &#1069;&#1083;&#1083;&#1080;&#1086;&#1090;&#1086;&#1074;&#1072; &#1090;&#1091;&#1087;&#1072;&#1081;&#1103;, Indian\\n\\t\\t\\t\\ttree shrew,\\n\\t\\t\\t\\tMadras Tree\\n\\t\\t\\t\\tShrew)</p>\\n\\t\\t\\t\\t<p lang=\"ru-RU\" class=\"western\">(&#1085;&#1077;&#1090; &#1087;&#1086;&#1076;&#1074;&#1080;&#1076;&#1086;&#1074;)</p>\\n\\t\\t\\t</td>\\n\\t\\t\\t<td width=\"236\" style=\"border-top: 1px solid #000000; border-bottom: 1px solid #000000; border-left: 1px solid #000000; border-right: none; padding-top: 0in; padding-bottom: 0in; padding-left: 0.05in; padding-right: 0in\">\\n\\t\\t\\t\\t<p lang=\"ru-RU\" class=\"western\">&#1089;&#1086;&#1074;&#1088;. &#1089;.&#1048;&#1085;&#1076;&#1080;&#1103;, &#1102;&#1078;&#1085;&#1077;&#1077;\\n\\t\\t\\t\\t&#1088;&#1077;&#1082;&#1080; &#1043;&#1072;&#1085;&#1075; (Ganges River),\\n\\t\\t\\t\\t&#1085;&#1072; &#1089;&#1077;&#1074;&#1077;&#1088; &#1076;&#1086; &#1048;&#1085;&#1076;&#1072;</p>\\n\\t\\t\\t</td>\\n\\t\\t\\t<td width=\"270\" style=\"border: 1px solid #000000; padding: 0in 0.05in\">\\n\\t\\t\\t\\t<p lang=\"ru-RU\" class=\"western\" style=\"margin-bottom: 0in\">2133/3133</p>\\n\\t\\t\\t\\t<p lang=\"ru-RU\" class=\"western\" style=\"margin-bottom: 0in\">16-18,5+16,5-19,5-20\\n\\t\\t\\t\\t&#1089;&#1084;</p>\\n\\t\\t\\t\\t<p lang=\"ru-RU\" class=\"western\">&#1074;&#1089;&#1077;&#1103;&#1076;&#1085;&#1072;&#1103;</p>\\n\\t\\t\\t</td>\\n\\t\\t</tr>\\n\\t\\t<tr valign=\"top\">\\n\\t\\t\\t<td width=\"246\" style=\"border-top: none; border-bottom: 1px solid #000000; border-left: 1px solid #000000; border-right: none; padding-top: 0in; padding-bottom: 0in; padding-left: 0.05in; padding-right: 0in\">\\n\\t\\t\\t\\t<p lang=\"ru-RU\" class=\"western\">Anathana\\n\\t\\t\\t\\tellioti ellioti</p>\\n\\t\\t\\t</td>\\n\\t\\t\\t<td width=\"236\" style=\"border-top: none; border-bottom: 1px solid #000000; border-left: 1px solid #000000; border-right: none; padding-top: 0in; padding-bottom: 0in; padding-left: 0.05in; padding-right: 0in\">\\n\\t\\t\\t\\t<p lang=\"ru-RU\" class=\"western\">Eastern Ghats, Madras</p>\\n\\t\\t\\t</td>\\n\\t\\t\\t<td width=\"270\" style=\"border-top: none; border-bottom: 1px solid #000000; border-left: 1px solid #000000; border-right: 1px solid #000000; padding: 0in 0.05in\">\\n\\t\\t\\t\\t<p lang=\"ru-RU\" class=\"western\">&#1094;&#1074;&#1077;&#1090; &#1093;&#1074;&#1086;&#1089;&#1090;&#1072; &#1082;&#1072;&#1082; &#1094;&#1074;&#1077;&#1090;\\n\\t\\t\\t\\t&#1089;&#1087;&#1080;&#1085;&#1099;, the ground colour above being reddish-brown while the\\n\\t\\t\\t\\tfeet and hind legs are buff or ochraceous</p>\\n\\t\\t\\t</td>\\n\\t\\t</tr>\\n\\t\\t<tr valign=\"top\">\\n\\t\\t\\t<td width=\"246\" style=\"border-top: none; border-bottom: 1px solid #000000; border-left: 1px solid #000000; border-right: none; padding-top: 0in; padding-bottom: 0in; padding-left: 0.05in; padding-right: 0in\">\\n\\t\\t\\t\\t<p lang=\"ru-RU\" class=\"western\">Anathana\\n\\t\\t\\t\\tellioti pallida</p>\\n\\t\\t\\t</td>\\n\\t\\t\\t<td width=\"236\" style=\"border-top: none; border-bottom: 1px solid #000000; border-left: 1px solid #000000; border-right: none; padding-top: 0in; padding-bottom: 0in; padding-left: 0.05in; padding-right: 0in\">\\n\\t\\t\\t\\t<p lang=\"ru-RU\" class=\"western\">Manbhum, Bengal</p>\\n\\t\\t\\t</td>\\n\\t\\t\\t<td width=\"270\" style=\"border-top: none; border-bottom: 1px solid #000000; border-left: 1px solid #000000; border-right: 1px solid #000000; padding: 0in 0.05in\">\\n\\t\\t\\t\\t<p lang=\"ru-RU\" class=\"western\">colour of body above\\n\\t\\t\\t\\treddish-brown and the feet and hind legs grizzled buffy; &#1094;&#1074;&#1077;&#1090;\\n\\t\\t\\t\\t&#1093;&#1074;&#1086;&#1089;&#1090;&#1072; &#1086;&#1090;&#1083;&#1080;&#1095;&#1072;&#1077;&#1090;&#1089;&#1103; &#1086;&#1090; &#1094;&#1074;&#1077;&#1090;&#1072; &#1089;&#1087;&#1080;&#1085;&#1099;</p>\\n\\t\\t\\t</td>\\n\\t\\t</tr>\\n\\t\\t<tr valign=\"top\">\\n\\t\\t\\t<td width=\"246\" style=\"border-top: none; border-bottom: 1px solid #000000; border-left: 1px solid #000000; border-right: none; padding-top: 0in; padding-bottom: 0in; padding-left: 0.05in; padding-right: 0in\">\\n\\t\\t\\t\\t<p lang=\"ru-RU\" class=\"western\">Anathana\\n\\t\\t\\t\\tellioti wroughtoni</p>\\n\\t\\t\\t</td>\\n\\t\\t\\t<td width=\"236\" style=\"border-top: none; border-bottom: 1px solid #000000; border-left: 1px solid #000000; border-right: none; padding-top: 0in; padding-bottom: 0in; padding-left: 0.05in; padding-right: 0in\">\\n\\t\\t\\t\\t<p lang=\"ru-RU\" class=\"western\">Mandvi, Surat</p>\\n\\t\\t\\t</td>\\n\\t\\t\\t<td width=\"270\" style=\"border-top: none; border-bottom: 1px solid #000000; border-left: 1px solid #000000; border-right: 1px solid #000000; padding: 0in 0.05in\">\\n\\t\\t\\t\\t<p lang=\"ru-RU\" class=\"western\">colour of body above dull\\n\\t\\t\\t\\tgrizzled brownish and the feet and hind legs grizzled greyish;\\n\\t\\t\\t\\t&#1094;&#1074;&#1077;&#1090; &#1093;&#1074;&#1086;&#1089;&#1090;&#1072; &#1086;&#1090;&#10'",
     "output_type": "error",
     "traceback": [
      "\u001b[0;31m---------------------------------------------------------------------------\u001b[0m",
      "\u001b[0;31mTypeError\u001b[0m                                 Traceback (most recent call last)",
      "\u001b[0;32m<ipython-input-41-b2a7662787e6>\u001b[0m in \u001b[0;36m<module>\u001b[0;34m()\u001b[0m\n\u001b[0;32m----> 1\u001b[0;31m \u001b[0mHTML\u001b[0m\u001b[0;34m(\u001b[0m\u001b[0metree\u001b[0m\u001b[0;34m.\u001b[0m\u001b[0mtostring\u001b[0m\u001b[0;34m(\u001b[0m\u001b[0mdoc\u001b[0m\u001b[0;34m)\u001b[0m\u001b[0;34m[\u001b[0m\u001b[0;34m:\u001b[0m\u001b[0;36m30000\u001b[0m\u001b[0;34m]\u001b[0m\u001b[0;34m)\u001b[0m\u001b[0;34m\u001b[0m\u001b[0m\n\u001b[0m",
      "\u001b[0;32m/Library/Frameworks/Python.framework/Versions/3.6/lib/python3.6/site-packages/IPython/core/display.py\u001b[0m in \u001b[0;36m__init__\u001b[0;34m(self, data, url, filename, metadata)\u001b[0m\n\u001b[1;32m    608\u001b[0m \u001b[0;34m\u001b[0m\u001b[0m\n\u001b[1;32m    609\u001b[0m         \u001b[0mself\u001b[0m\u001b[0;34m.\u001b[0m\u001b[0mreload\u001b[0m\u001b[0;34m(\u001b[0m\u001b[0;34m)\u001b[0m\u001b[0;34m\u001b[0m\u001b[0m\n\u001b[0;32m--> 610\u001b[0;31m         \u001b[0mself\u001b[0m\u001b[0;34m.\u001b[0m\u001b[0m_check_data\u001b[0m\u001b[0;34m(\u001b[0m\u001b[0;34m)\u001b[0m\u001b[0;34m\u001b[0m\u001b[0m\n\u001b[0m\u001b[1;32m    611\u001b[0m \u001b[0;34m\u001b[0m\u001b[0m\n\u001b[1;32m    612\u001b[0m     \u001b[0;32mdef\u001b[0m \u001b[0m__repr__\u001b[0m\u001b[0;34m(\u001b[0m\u001b[0mself\u001b[0m\u001b[0;34m)\u001b[0m\u001b[0;34m:\u001b[0m\u001b[0;34m\u001b[0m\u001b[0m\n",
      "\u001b[0;32m/Library/Frameworks/Python.framework/Versions/3.6/lib/python3.6/site-packages/IPython/core/display.py\u001b[0m in \u001b[0;36m_check_data\u001b[0;34m(self)\u001b[0m\n\u001b[1;32m    657\u001b[0m     \u001b[0;32mdef\u001b[0m \u001b[0m_check_data\u001b[0m\u001b[0;34m(\u001b[0m\u001b[0mself\u001b[0m\u001b[0;34m)\u001b[0m\u001b[0;34m:\u001b[0m\u001b[0;34m\u001b[0m\u001b[0m\n\u001b[1;32m    658\u001b[0m         \u001b[0;32mif\u001b[0m \u001b[0mself\u001b[0m\u001b[0;34m.\u001b[0m\u001b[0mdata\u001b[0m \u001b[0;32mis\u001b[0m \u001b[0;32mnot\u001b[0m \u001b[0;32mNone\u001b[0m \u001b[0;32mand\u001b[0m \u001b[0;32mnot\u001b[0m \u001b[0misinstance\u001b[0m\u001b[0;34m(\u001b[0m\u001b[0mself\u001b[0m\u001b[0;34m.\u001b[0m\u001b[0mdata\u001b[0m\u001b[0;34m,\u001b[0m \u001b[0mstr\u001b[0m\u001b[0;34m)\u001b[0m\u001b[0;34m:\u001b[0m\u001b[0;34m\u001b[0m\u001b[0m\n\u001b[0;32m--> 659\u001b[0;31m             \u001b[0;32mraise\u001b[0m \u001b[0mTypeError\u001b[0m\u001b[0;34m(\u001b[0m\u001b[0;34m\"%s expects text, not %r\"\u001b[0m \u001b[0;34m%\u001b[0m \u001b[0;34m(\u001b[0m\u001b[0mself\u001b[0m\u001b[0;34m.\u001b[0m\u001b[0m__class__\u001b[0m\u001b[0;34m.\u001b[0m\u001b[0m__name__\u001b[0m\u001b[0;34m,\u001b[0m \u001b[0mself\u001b[0m\u001b[0;34m.\u001b[0m\u001b[0mdata\u001b[0m\u001b[0;34m)\u001b[0m\u001b[0;34m)\u001b[0m\u001b[0;34m\u001b[0m\u001b[0m\n\u001b[0m\u001b[1;32m    660\u001b[0m \u001b[0;34m\u001b[0m\u001b[0m\n\u001b[1;32m    661\u001b[0m \u001b[0;32mclass\u001b[0m \u001b[0mPretty\u001b[0m\u001b[0;34m(\u001b[0m\u001b[0mTextDisplayObject\u001b[0m\u001b[0;34m)\u001b[0m\u001b[0;34m:\u001b[0m\u001b[0;34m\u001b[0m\u001b[0m\n",
      "\u001b[0;31mTypeError\u001b[0m: HTML expects text, not b'<html>\\n<head>\\n\\t<meta http-equiv=\"content-type\" content=\"text/html; charset=utf-8\"/>\\n\\t<title/>\\n\\t<meta name=\"generator\" content=\"LibreOffice 5.4.2.2 (MacOSX)\"/>\\n\\t<meta name=\"author\" content=\"Stas\"/>\\n\\t<meta name=\"created\" content=\"2009-02-25T19:42:00\"/>\\n\\t<meta name=\"changed\" content=\"2018-06-04T14:34:21.995000000\"/>\\n\\t<style type=\"text/css\">\\n\\t\\t@page { size: 8.5in 11in; margin-right: 0.59in; margin-top: 0.79in; margin-bottom: 0.79in }\\n\\t\\tp { margin-bottom: 0.08in; direction: ltr; color: #000000; text-align: justify; orphans: 2; widows: 2 }\\n\\t\\tp.western { font-family: \"Times New Roman\", serif; font-size: 10pt; so-language: ru-RU }\\n\\t\\tp.cjk { font-family: \"Times New Roman\", serif; font-size: 10pt; so-language: zh-CN }\\n\\t\\tp.ctl { font-family: \"Times New Roman\", serif; font-size: 10pt; so-language: ar-SA }\\n\\t\\th1 { margin-bottom: 0.04in; direction: ltr; color: #000000; text-align: center; orphans: 2; widows: 2 }\\n\\t\\th1.western { font-family: \"Arial\", sans-serif; font-size: 14pt; so-language: ru-RU }\\n\\t\\th1.cjk { font-family: \"Times New Roman\", serif; font-size: 14pt; so-language: zh-CN }\\n\\t\\th1.ctl { font-family: \"Arial\", sans-serif; font-size: 10pt; so-language: ar-SA; font-weight: normal }\\n\\t\\th2 { margin-top: 0.17in; margin-bottom: 0.04in; direction: ltr; color: #000000; text-align: justify; orphans: 2; widows: 2 }\\n\\t\\th2.western { font-family: \"Arial\", sans-serif; font-size: 10pt; so-language: ru-RU; font-style: italic }\\n\\t\\th2.cjk { font-family: \"Times New Roman\", serif; font-size: 10pt; so-language: zh-CN; font-style: italic }\\n\\t\\th2.ctl { font-family: \"Arial\", sans-serif; font-size: 10pt; so-language: ar-SA; font-weight: normal }\\n\\t\\th3 { margin-top: 0in; margin-bottom: 0in; direction: ltr; color: #000000; text-align: justify; orphans: 2; widows: 2 }\\n\\t\\th3.western { font-family: \"Times New Roman\", serif; font-size: 10pt; so-language: ru-RU }\\n\\t\\th3.cjk { font-family: \"Times New Roman\", serif; font-size: 10pt; so-language: zh-CN }\\n\\t\\th3.ctl { font-family: \"Times New Roman\", serif; font-size: 10pt; so-language: ar-SA; font-weight: normal }\\n\\t\\ta:link { color: #0000ff }\\n\\t\\ta.western:visited { so-language: en-US }\\n\\t\\ta.cjk:visited { so-language: zh-CN }\\n\\t\\ta.ctl:visited { so-language: hi-IN }\\n\\t</style>\\n</head>\\n<body lang=\"en-US\" text=\"#000000\" link=\"#0000ff\" dir=\"ltr\">\\n<div id=\"Table of Contents1\" dir=\"ltr\">\\n\\t<p lang=\"ru-RU\" align=\"left\" style=\"margin-top: 0.08in; text-transform: uppercase\">\\n\\t<b><a class=\"western\" href=\"#__RefHeading___Toc2070_1570246537\">&#1050;&#1083;&#1072;&#1089;&#1089;&#1080;&#1092;&#1080;&#1082;&#1072;&#1094;&#1080;&#1103;\\n\\t&#1087;&#1088;&#1080;&#1084;&#1072;&#1090;&#1086;&#1074;\\t2</a></b></p>\\n\\t<p lang=\"ru-RU\" align=\"left\" style=\"margin-top: 0.08in; text-transform: uppercase\">\\n\\t<b><a class=\"western\" href=\"#__RefHeading__81_25711451\">&#1053;&#1072;&#1076;&#1086;&#1090;&#1088;&#1103;&#1076;\\n\\tARCHONTA GREGORY, 1910 (McKenna, 1975)\\t2</a></b></p>\\n\\t<p lang=\"ru-RU\" align=\"left\" style=\"margin-top: 0.08in; text-transform: uppercase\">\\n\\t<b><a class=\"western\" href=\"#__RefHeading__83_25711451\">&#1054;&#1090;&#1088;&#1103;&#1076;\\n\\tSCANDENTIA BUTLER, 1972 (WAGNER, 1855)\\t2</a></b></p>\\n\\t<p lang=\"ru-RU\" align=\"left\" style=\"margin-top: 0.08in; text-transform: uppercase\">\\n\\t<b><a class=\"western\" href=\"#__RefHeading___Toc146772_2125148722\">&#1054;&#1090;&#1088;&#1103;&#1076;\\n\\tDERMOPTERA ILLIGER, 1811\\t8</a></b></p>\\n\\t<p lang=\"ru-RU\" align=\"left\" style=\"margin-top: 0.08in; text-transform: uppercase\">\\n\\t<b><a class=\"western\" href=\"#__RefHeading__60_20615627611\">PRIMATOMORPHA\\t12</a></b></p>\\n\\t<p lang=\"ru-RU\" align=\"left\" style=\"margin-top: 0.08in; text-transform: uppercase\">\\n\\t<b><a class=\"western\" href=\"#__RefHeading___Toc746_1289271604\">&#1086;&#1090;&#1088;&#1103;&#1076;\\n\\tINCERTAE SEDIS\\t12</a></b></p>\\n\\t<p lang=\"ru-RU\" align=\"left\" style=\"margin-top: 0.08in; text-transform: uppercase\">\\n\\t<b><a class=\"western\" href=\"#__RefHeading___Toc748_1289271604\">&#1054;&#1090;&#1088;&#1103;&#1076;\\n\\tPLESIADAPIFORMES Simons et Tattersall, 1972 (in Simons, 1972)\\t14</a></b></p>\\n\\t<p lang=\"ru-RU\" align=\"left\" style=\"margin-top: 0.08in; text-transform: uppercase\">\\n\\t<b><a class=\"western\" href=\"#__RefHeading___Toc146774_2125148722\">&#1086;&#1090;&#1088;&#1103;&#1076;\\n\\tPRIMATES LINNAEUS, 1758\\t41</a></b></p>\\n\\t<p lang=\"ru-RU\" align=\"left\" style=\"margin-left: 0.14in; margin-bottom: 0in; font-variant: small-caps\">\\n\\t<a class=\"western\" href=\"#__RefHeading___Toc146776_2125148722\">&#1087;&#1086;&#1076;&#1086;&#1090;&#1088;&#1103;&#1076;\\n\\tSTREPSIRRHINI &#201;.GEOFFROY SAINT-HILAIRE, 1812\\t41</a></p>\\n\\t<p lang=\"ru-RU\" align=\"left\" style=\"margin-left: 0.14in; margin-bottom: 0in; font-variant: small-caps\">\\n\\t<a class=\"western\" href=\"#__RefHeading___Toc146778_2125148722\">&#1080;&#1085;&#1092;&#1088;&#1072;&#1086;&#1090;&#1088;&#1103;&#1076;\\n\\tADAPIFORMES Szalay et Delson, 1979\\t42</a></p>\\n\\t<p lang=\"ru-RU\" align=\"left\" style=\"margin-left: 0.14in; margin-bottom: 0in; font-variant: small-caps\">\\n\\t<a class=\"western\" href=\"#__RefHeading___Toc146780_2125148722\">&#1080;&#1085;&#1092;&#1088;&#1072;&#1086;&#1090;&#1088;&#1103;&#1076;\\n\\tLEMURIFORMES GREGORY, 1915 (Gray, 1821)\\t62</a></p>\\n\\t<p lang=\"ru-RU\" align=\"left\" style=\"margin-left: 0.14in; margin-bottom: 0in; font-variant: small-caps\">\\n\\t<a class=\"western\" href=\"#__RefHeading___Toc146782_2125148722\">&#1080;&#1085;&#1092;&#1088;&#1072;&#1086;&#1090;&#1088;&#1103;&#1076;\\n\\tLORISIFORMES Gregory, 1915\\t90</a></p>\\n\\t<p lang=\"ru-RU\" align=\"left\" style=\"margin-left: 0.14in; margin-bottom: 0in; font-variant: small-caps\">\\n\\t<a class=\"western\" href=\"#__RefHeading___Toc760_1289271604\">&#1080;&#1085;&#1092;&#1088;&#1072;&#1086;&#1090;&#1088;&#1103;&#1076;\\n\\tCHIROMYIFORMES Anthony and Coupin, 1931\\t108</a></p>\\n\\t<p lang=\"ru-RU\" align=\"left\" style=\"margin-left: 0.14in; margin-bottom: 0in; font-variant: small-caps\">\\n\\t<a class=\"western\" href=\"#__RefHeading___Toc146784_2125148722\">&#1087;&#1086;&#1076;&#1086;&#1090;&#1088;&#1103;&#1076;\\n\\tHAPLORRHINI POCOCK, 1918\\t109</a></p>\\n\\t<p lang=\"ru-RU\" align=\"left\" style=\"margin-left: 0.14in; margin-bottom: 0in; font-variant: small-caps\">\\n\\t<a class=\"western\" href=\"#__RefHeading___Toc146786_2125148722\">&#1075;&#1080;&#1087;&#1086;&#1090;&#1088;&#1103;&#1076;\\n\\tTARSIIFORMES\\t110</a></p>\\n\\t<p lang=\"ru-RU\" align=\"left\" style=\"margin-left: 0.14in; margin-bottom: 0in; font-variant: small-caps\">\\n\\t<a class=\"western\" href=\"#__RefHeading___Toc146788_2125148722\">&#1080;&#1085;&#1092;&#1088;&#1072;&#1086;&#1090;&#1088;&#1103;&#1076;\\n\\tOMOMYIFORMES\\t110</a></p>\\n\\t<p lang=\"ru-RU\" align=\"left\" style=\"margin-left: 0.14in; margin-bottom: 0in; font-variant: small-caps\">\\n\\t<a class=\"western\" href=\"#__RefHeading___Toc146790_2125148722\">&#1080;&#1085;&#1092;&#1088;&#1072;&#1086;&#1090;&#1088;&#1103;&#1076;\\n\\tTARSIIFORMES GREGORY, 1915\\t128</a></p>\\n\\t<p lang=\"ru-RU\" align=\"left\" style=\"margin-left: 0.14in; margin-bottom: 0in; font-variant: small-caps\">\\n\\t<a class=\"western\" href=\"#__RefHeading___Toc146792_2125148722\">&#1075;&#1080;&#1087;&#1086;&#1090;&#1088;&#1103;&#1076;\\n\\tANTHROPOIDEA\\t133</a></p>\\n\\t<p lang=\"ru-RU\" align=\"left\" style=\"margin-left: 0.14in; margin-bottom: 0in; font-variant: small-caps\">\\n\\t<a class=\"western\" href=\"#__RefHeading___Toc146794_2125148722\">&#1080;&#1085;&#1092;&#1088;&#1072;&#1086;&#1090;&#1088;&#1103;&#1076;\\n\\tINCERTAE SEDIS\\t133</a></p>\\n\\t<p lang=\"ru-RU\" align=\"left\" style=\"margin-left: 0.14in; margin-bottom: 0in; font-variant: small-caps\">\\n\\t<a class=\"western\" href=\"#__RefHeading___Toc774_1289271604\">&#1080;&#1085;&#1092;&#1088;&#1072;&#1086;&#1090;&#1088;&#1103;&#1076;\\n\\tEOSIMIIFORMES Chaimaneea, Chavasseau, Beard, Kyaw, Soe, Seine,\\n\\tLazzaria, Marivaux, Marandat, Swe, Rugbumrung, Lwin, Valentin,\\n\\tZin-Maung-Maung-Thein et Jaeger, 2012\\t139</a></p>\\n\\t<p lang=\"ru-RU\" align=\"left\" style=\"margin-left: 0.14in; margin-bottom: 0in; font-variant: small-caps\">\\n\\t<a class=\"western\" href=\"#__RefHeading___Toc146796_2125148722\">&#1080;&#1085;&#1092;&#1088;&#1072;&#1086;&#1090;&#1088;&#1103;&#1076;\\n\\tPLATYRRHINI &#201;.GEOFFROY, 1812\\t142</a></p>\\n\\t<p lang=\"ru-RU\" align=\"left\" style=\"margin-left: 0.14in; margin-bottom: 0in; font-variant: small-caps\">\\n\\t<a class=\"western\" href=\"#__RefHeading___Toc146798_2125148722\">&#1080;&#1085;&#1092;&#1088;&#1072;&#1086;&#1090;&#1088;&#1103;&#1076;\\n\\tCATARRHINI &#201;.GEOFFROY, 1812\\t192</a></p>\\n\\t<p lang=\"ru-RU\" align=\"left\" style=\"margin-left: 0.14in; margin-bottom: 0in; font-variant: small-caps\">\\n\\t<a class=\"western\" href=\"#__RefHeading___Toc146800_2125148722\">&#1087;&#1072;&#1088;&#1074;&#1086;&#1090;&#1088;&#1103;&#1076;\\n\\tEOCATARRHINI\\t192</a></p>\\n\\t<p lang=\"ru-RU\" align=\"left\" style=\"margin-left: 0.14in; margin-bottom: 0in; font-variant: small-caps\">\\n\\t<a class=\"western\" href=\"#__RefHeading___Toc146802_2125148722\">&#1087;&#1072;&#1088;&#1074;&#1086;&#1090;&#1088;&#1103;&#1076;\\n\\tEUCATARRHINI\\t200</a></p>\\n\\t<p lang=\"ru-RU\" align=\"left\" style=\"margin-left: 0.28in; margin-bottom: 0in\">\\n\\t<i><a class=\"western\" href=\"#__RefHeading___Toc146804_2125148722\">&#1085;&#1072;&#1076;&#1089;&#1077;&#1084;.\\n\\tSaadanioidea Zalmout, Sanders, MacLatchy, Gunnell, Al-Mufarreh, Ali,\\n\\tNasser, Al-Masari, Al-Sobhi, Nadhra, Matari, Wilson et Gingerich,\\n\\t2010\\t201</a></i></p>\\n\\t<p lang=\"ru-RU\" align=\"left\" style=\"margin-left: 0.28in; margin-bottom: 0in\">\\n\\t<i><a class=\"western\" href=\"#__RefHeading___Toc146806_2125148722\">&#1085;&#1072;&#1076;&#1089;&#1077;&#1084;.\\n\\tCercopithecoidea Gray, 1821 (Gregory et Hellman, 1923)\\t201</a></i></p>\\n\\t<p lang=\"ru-RU\" align=\"left\" style=\"margin-left: 0.28in; margin-bottom: 0in\">\\n\\t<i><a class=\"western\" href=\"#__RefHeading___Toc146808_2125148722\">&#1085;&#1072;&#1076;&#1089;&#1077;&#1084;.\\n\\tHominoidea Gray, 1825\\t266</a></i></p>\\n\\t<p lang=\"ru-RU\" align=\"left\" style=\"margin-top: 0.08in; text-transform: uppercase\">\\n\\t<b><a class=\"western\" href=\"#__RefHeading___Toc146810_2125148722\">&#1054;&#1096;&#1080;&#1073;&#1086;&#1095;&#1085;&#1086;\\n\\t&#1087;&#1088;&#1080;&#1095;&#1080;&#1089;&#1083;&#1103;&#1074;&#1096;&#1080;&#1077;&#1089;&#1103; &#1082; &#1087;&#1088;&#1080;&#1084;&#1072;&#1090;&#1072;&#1084; &#1090;&#1072;&#1082;&#1089;&#1086;&#1085;&#1099;\\t313</a></b></p>\\n\\t<p lang=\"ru-RU\" align=\"left\" style=\"margin-top: 0.08in; text-transform: uppercase\">\\n\\t<b><a class=\"western\" href=\"#__RefHeading___Toc146812_2125148722\">&#1055;&#1056;&#1048;&#1052;&#1045;&#1063;&#1040;&#1053;&#1048;&#1071;\\t318</a></b></p>\\n\\t<p lang=\"ru-RU\" align=\"left\" style=\"margin-left: 0.28in; margin-bottom: 0in\">\\n\\t<i><a class=\"western\" href=\"#__RefHeading___Toc146814_2125148722\">&#1054;&#1090;&#1083;&#1080;&#1095;&#1080;&#1103;\\n\\t&#1090;&#1072;&#1082;&#1089;&#1086;&#1085;&#1086;&#1074;\\t318</a></i></p>\\n\\t<p lang=\"ru-RU\" align=\"left\" style=\"margin-left: 0.28in; margin-bottom: 0in\">\\n\\t<i><a class=\"western\" href=\"#__RefHeading___Toc146816_2125148722\">&#1043;&#1077;&#1086;&#1075;&#1088;&#1072;&#1092;&#1080;&#1095;&#1077;&#1089;&#1082;&#1080;&#1077;\\n\\t&#1089;&#1080;&#1085;&#1086;&#1085;&#1080;&#1084;&#1099;\\t323</a></i></p>\\n\\t<p lang=\"ru-RU\" align=\"left\" style=\"margin-top: 0.08in; text-transform: uppercase\">\\n\\t<b><a class=\"western\" href=\"#__RefHeading___Toc146818_2125148722\">&#1050;&#1051;&#1040;&#1057;&#1057;&#1048;&#1060;&#1048;&#1050;&#1040;&#1062;&#1048;&#1048;\\n\\t&#1087;&#1086; &#1088;&#1072;&#1079;&#1085;&#1099;&#1084; &#1072;&#1074;&#1090;&#1086;&#1088;&#1072;&#1084;\\t323</a></b></p>\\n\\t<p lang=\"ru-RU\" align=\"left\" style=\"margin-left: 0.14in; margin-bottom: 0in; font-variant: small-caps\">\\n\\t<a class=\"western\" href=\"#__RefHeading___Toc146820_2125148722\">&#1053;&#1077;&#1082;&#1080;&#1081;\\n\\t&#1074;&#1072;&#1088;&#1080;&#1072;&#1085;&#1090;\\t323</a></p>\\n\\t<p lang=\"ru-RU\" align=\"left\" style=\"margin-left: 0.14in; margin-bottom: 0in; font-variant: small-caps\">\\n\\t<a class=\"western\" href=\"#__RefHeading___Toc146822_2125148722\">&#1055;&#1086;\\n\\tC. Groves\\t330</a></p>\\n\\t<p lang=\"ru-RU\" align=\"left\" style=\"margin-left: 0.14in; margin-bottom: 0in; font-variant: small-caps\">\\n\\t<a class=\"western\" href=\"#__RefHeading___Toc146824_2125148722\">&#1055;&#1086;\\n\\tSimons (1972)\\t341</a></p>\\n\\t<p lang=\"ru-RU\" align=\"left\" style=\"margin-left: 0.14in; margin-bottom: 0in; font-variant: small-caps\">\\n\\t<a class=\"western\" href=\"#__RefHeading___Toc806_1289271604\">&#1055;&#1086;\\n\\tDelson, 1977\\t348</a></p>\\n\\t<p lang=\"ru-RU\" align=\"left\" style=\"margin-left: 0.14in; margin-bottom: 0in; font-variant: small-caps\">\\n\\t<a class=\"western\" href=\"#__RefHeading___Toc146826_2125148722\">&#1055;&#1086;\\n\\tSchwartz et al. (1978)\\t350</a></p>\\n\\t<p lang=\"ru-RU\" align=\"left\" style=\"margin-left: 0.14in; margin-bottom: 0in; font-variant: small-caps\">\\n\\t<a class=\"western\" href=\"#__RefHeading___Toc146828_2125148722\">&#1055;&#1086;\\n\\tSzalay and Delson (1979)\\t354</a></p>\\n\\t<p lang=\"ru-RU\" align=\"left\" style=\"margin-left: 0.14in; margin-bottom: 0in; font-variant: small-caps\">\\n\\t<a class=\"western\" href=\"#__RefHeading___Toc812_1289271604\">&#1055;&#1086;\\n\\tSzalay et al., 1987\\t362</a></p>\\n\\t<p lang=\"ru-RU\" align=\"left\" style=\"margin-left: 0.14in; margin-bottom: 0in; font-variant: small-caps\">\\n\\t<a class=\"western\" href=\"#__RefHeading___Toc814_1289271604\">&#1055;&#1086;\\n\\tHarrison, 1987\\t362</a></p>\\n\\t<p lang=\"ru-RU\" align=\"left\" style=\"margin-left: 0.14in; margin-bottom: 0in; font-variant: small-caps\">\\n\\t<a class=\"western\" href=\"#__RefHeading___Toc146830_2125148722\">&#1055;&#1086;\\n\\tFleagle (1988)\\t363</a></p>\\n\\t<p lang=\"ru-RU\" align=\"left\" style=\"margin-left: 0.14in; margin-bottom: 0in; font-variant: small-caps\">\\n\\t<a class=\"western\" href=\"#__RefHeading___Toc146832_2125148722\">&#1055;&#1086;\\n\\tFleagle (1999)\\t370</a></p>\\n\\t<p lang=\"ru-RU\" align=\"left\" style=\"margin-left: 0.14in; margin-bottom: 0in; font-variant: small-caps\">\\n\\t<a class=\"western\" href=\"#__RefHeading___Toc146834_2125148722\">&#1055;&#1086;\\n\\tThe Primate Fossil Record, 2002\\t377</a></p>\\n\\t<p lang=\"ru-RU\" align=\"left\" style=\"margin-left: 0.14in; margin-bottom: 0in; font-variant: small-caps\">\\n\\t<a class=\"western\" href=\"#__RefHeading___Toc146836_2125148722\">&#1055;&#1086;\\n\\tHarrison, 2005\\t377</a></p>\\n\\t<p lang=\"ru-RU\" align=\"left\" style=\"margin-left: 0.14in; margin-bottom: 0in; font-variant: small-caps\">\\n\\t<a class=\"western\" href=\"#__RefHeading___Toc146838_2125148722\">Outline\\n\\tclassification of Primates\\t377</a></p>\\n\\t<p lang=\"ru-RU\" align=\"left\" style=\"margin-left: 0.14in; margin-bottom: 0in; font-variant: small-caps\">\\n\\t<a class=\"western\" href=\"#__RefHeading___Toc146840_2125148722\">&#1055;&#1086;\\n\\tGoodman et al., 1998\\t377</a></p>\\n\\t<p lang=\"ru-RU\" align=\"left\" style=\"margin-left: 0.14in; margin-bottom: 0in; font-variant: small-caps\">\\n\\t<a class=\"western\" href=\"#__RefHeading___Toc146842_2125148722\">&#1055;&#1086;\\n\\tMcGraw-Hill Encyclopedia of Science&amp;Technology, 9th Edition.\\n\\t2002\\t377</a></p>\\n\\t<p lang=\"ru-RU\" align=\"left\" style=\"margin-left: 0.14in; margin-bottom: 0in; font-variant: small-caps\">\\n\\t<a class=\"western\" href=\"#__RefHeading___Toc146844_2125148722\">&#1055;&#1086;\\n\\tMoya-Sola et al., 2009\\t377</a></p>\\n\\t<p lang=\"ru-RU\" align=\"left\" style=\"margin-left: 0.14in; margin-bottom: 0in; font-variant: small-caps\">\\n\\t<a class=\"western\" href=\"#__RefHeading___Toc146846_2125148722\">&#1057;&#1080;&#1089;&#1090;&#1077;&#1084;&#1072;&#1090;&#1080;&#1082;&#1072;\\n\\t&#1072;&#1074;&#1089;&#1090;&#1088;&#1072;&#1083;&#1086;&#1087;&#1080;&#1090;&#1077;&#1082;&#1086;&#1074;\\t383</a></p>\\n\\t<p lang=\"ru-RU\" align=\"left\" style=\"margin-left: 0.14in; margin-bottom: 0in; font-variant: small-caps\">\\n\\t<a class=\"western\" href=\"#__RefHeading___Toc146848_2125148722\">&#1057;&#1080;&#1089;&#1090;&#1077;&#1084;&#1072;&#1090;&#1080;&#1082;&#1072;\\n\\t\"&#1056;&#1072;&#1085;&#1085;&#1080;&#1093; Homo\"\\t383</a></p>\\n\\t<p lang=\"ru-RU\" align=\"left\" style=\"margin-left: 0.14in; margin-bottom: 0in; font-variant: small-caps\">\\n\\t<a class=\"western\" href=\"#__RefHeading___Toc146850_2125148722\">&#1057;&#1080;&#1089;&#1090;&#1077;&#1084;&#1072;&#1090;&#1080;&#1082;&#1072;\\n\\t&#1088;&#1086;&#1076;&#1072; Homo\\t385</a></p>\\n</div>\\n<p lang=\"ru-RU\" class=\"western\" style=\"margin-bottom: 0in\"><br/>\\n\\n</p>\\n<div id=\"Section1\" dir=\"ltr\">\\n\\t<ol>\\n\\t\\t<li/>\\n<h1 lang=\"ru-RU\" class=\"western\" style=\"margin-top: 0.08in; margin-bottom: 0.08in\"><a name=\"__RefHeading___Toc2070_1570246537\"/>\\n\\t\\t<font face=\"Times New Roman, serif\">&#1050;&#1083;&#1072;&#1089;&#1089;&#1080;&#1092;&#1080;&#1082;&#1072;&#1094;&#1080;&#1103;\\n\\t\\t&#1087;&#1088;&#1080;&#1084;&#1072;&#1090;&#1086;&#1074;</font></h1>\\n\\t</ol>\\n\\t<p lang=\"ru-RU\" class=\"western\" style=\"margin-bottom: 0in\">http://www.fmnh.helsinki.fi/users/haaramo/default.htm#Basal_Eukaryotae</p>\\n\\t<p lang=\"ru-RU\" class=\"western\" style=\"margin-bottom: 0in\"><br/>\\n\\n\\t</p>\\n\\t<p lang=\"ru-RU\" class=\"western\" style=\"margin-bottom: 0in\">http://www.fmnh.helsinki.fi/users/haaramo/Metazoa/Deuterostoma/Chordata/Synapsida/Eutheria/Basal_Archonta/Archonta.htm</p>\\n\\t<p lang=\"ru-RU\" class=\"western\" style=\"margin-bottom: 0in\"><br/>\\n\\n\\t</p>\\n\\t<ol start=\"2\">\\n\\t\\t<li/>\\n<h1 lang=\"ru-RU\" class=\"western\"><a name=\"__RefHeading__81_25711451\"/>\\n\\t\\t<font face=\"Times New Roman, serif\">&#1053;&#1072;&#1076;&#1086;&#1090;&#1088;&#1103;&#1076;</font><font face=\"Times New Roman, serif\">\\n\\t\\t</font><font face=\"Times New Roman, serif\">ARCHONTA\\n\\t\\tGREGORY, 1910 (McKenna, 1975)</font></h1>\\n\\t</ol>\\n\\t<p lang=\"ru-RU\" class=\"western\" align=\"center\" style=\"margin-bottom: 0in\">\\n\\t<b>EUARCHONTOGLIRES</b></p>\\n\\t<p lang=\"ru-RU\" class=\"western\" align=\"center\" style=\"margin-bottom: 0in\">\\n\\t(=UNGUICULATA</p>\\n\\t<p lang=\"ru-RU\" class=\"western\" align=\"center\" style=\"margin-bottom: 0in\">\\n\\t&#1074;&#1082;&#1083;&#1102;&#1095;&#1072;&#1077;&#1090; &#1077;&#1097;&#1105; Anagalida\\n\\t(=Glires\\n\\t(&#1073;&#1077;&#1079;\\n\\t&#1087;&#1088;&#1099;&#1075;&#1091;&#1085;&#1095;&#1080;&#1082;&#1086;&#1074;);\\n\\t&#1086;&#1090;&#1088;&#1103;&#1076;&#1099;:\\n\\t&#1074;&#1099;&#1084;&#1077;&#1088;&#1096;&#1080;&#1077; Anagaliformes =Anagaloidea\\n\\t=Anagalida,\\n\\t&#1087;&#1088;&#1099;&#1075;&#1091;&#1085;&#1095;&#1080;&#1082;&#1080;, &#1075;&#1088;&#1099;&#1079;&#1091;&#1085;&#1099;, &#1079;&#1072;&#1081;&#1094;&#1077;&#1086;&#1073;&#1088;&#1072;&#1079;&#1085;&#1099;&#1077;))</p>\\n\\t<p lang=\"ru-RU\" class=\"western\" align=\"center\" style=\"margin-bottom: 0in\">\\n\\t<b>&#1082;&#1083;&#1072;&#1076;&#1072; </b><b>EUARCHONTA</b></p>\\n\\t<p class=\"western\" align=\"center\" style=\"margin-bottom: 0in\"><b>(=PRIMATOMORPHA)</b></p>\\n\\t<ol start=\"3\">\\n\\t\\t<li/>\\n<h1 lang=\"ru-RU\" class=\"western\"><a name=\"__RefHeading__83_25711451\"/>\\n\\t\\t<font face=\"Times New Roman, serif\">&#1054;&#1090;&#1088;&#1103;&#1076;</font><font face=\"Times New Roman, serif\">\\n\\t\\tSCANDENTIA BUTLER, 1972 (WAGNER, 1855)</font></h1>\\n\\t</ol>\\n\\t<p lang=\"ru-RU\" class=\"western\" align=\"center\" style=\"margin-bottom: 0in\">\\n\\t(=<b>&#1087;&#1086;&#1076;&#1086;&#1090;&#1088;&#1103;&#1076;</b><b>\\n\\tTUPAIIFORMES </b><b>&#1086;&#1090;&#1088;&#1103;&#1076;&#1072;</b><b>\\n\\tPRIMATES</b></p>\\n\\t<p lang=\"ru-RU\" class=\"western\" align=\"center\" style=\"margin-bottom: 0in\">\\n\\t(=&#1087;&#1086;&#1076;&#1086;&#1090;&#1088;&#1103;&#1076;\\n\\tTUPAIOIDEA G.E.Dobson, 1882</p>\\n\\t<p lang=\"ru-RU\" class=\"western\" align=\"center\" style=\"margin-bottom: 0in\">\\n\\t=&#1086;&#1090;&#1088;&#1103;&#1076; PROPRIMATES\\n\\tGingerich, 1989, &#1074;&#1082;&#1083;&#1102;&#1095;&#1072;&#1103; &#1087;&#1086;&#1076;&#1086;&#1090;&#1088;&#1103;&#1076;\\n\\tPLESIADAPIFORMES</p>\\n\\t<p lang=\"ru-RU\" class=\"western\" align=\"center\" style=\"margin-bottom: 0in\">\\n\\t=&#1089;&#1077;&#1082;&#1094;&#1080;&#1080;\\n\\tTUPAIIFORMES &#1074; &#1087;&#1086;&#1076;&#1086;&#1090;&#1088;&#1103;&#1076;&#1077;\\n\\tPRAESIMII (&#1074;&#1082;&#1083;&#1102;&#1095;&#1072;&#1103; &#1087;&#1083;&#1077;&#1079;&#1080;&#1072;&#1076;&#1072;&#1087;&#1080;&#1089;&#1086;&#1074;&#1099;&#1093;)</p>\\n\\t<p class=\"western\" align=\"center\" style=\"margin-bottom: 0in\">=Tupayae\\n\\t=Scandentiformes</p>\\n\\t<p lang=\"ru-RU\" class=\"western\" align=\"center\" style=\"margin-bottom: 0in\">\\n\\t<font color=\"#131413\"><font size=\"2\" style=\"font-size: 10pt\">=&#1085;&#1072;&#1076;&#1089;&#1077;&#1084;.\\n\\t</font></font><font color=\"#131413\"><font size=\"2\" style=\"font-size: 10pt\">Tupaioidea\\n\\t</font></font><font color=\"#131413\"><font size=\"2\" style=\"font-size: 10pt\">&#1087;&#1086;&#1076;&#1086;&#1090;&#1088;&#1103;&#1076;&#1072;\\n\\t</font></font><font color=\"#131413\"><font size=\"2\" style=\"font-size: 10pt\">Proteutheria\\n\\t</font></font><font color=\"#131413\"><font size=\"2\" style=\"font-size: 10pt\">&#1086;&#1090;&#1088;&#1103;&#1076;&#1072;\\n\\tINSECTIVORA</font></font><font color=\"#131413\"><font size=\"2\" style=\"font-size: 10pt\">\\n\\t</font></font><font color=\"#131413\"><font size=\"2\" style=\"font-size: 10pt\">&#1087;&#1086;\\n\\tVan Valen, 1967</font></font></p>\\n\\t<p lang=\"ru-RU\" class=\"western\" align=\"center\" style=\"margin-bottom: 0in\">\\n\\t=&#1089;&#1077;&#1084;. Tupaiidae\\n\\t&#1087;&#1086;&#1076;&#1086;&#1090;&#1088;&#1103;&#1076;&#1072; MENOTYPHLA &#1086;&#1090;&#1088;&#1103;&#1076;&#1072;\\n\\tINSECTIVORA (&#1053;&#1040;&#1057;&#1045;&#1050;&#1054;&#1052;&#1054;&#1071;&#1044;&#1053;&#1067;&#1045;)</p>\\n\\t<p lang=\"ru-RU\" class=\"western\" align=\"center\" style=\"margin-bottom: 0in\">\\n\\t=&#1075;&#1088;&#1091;&#1087;&#1087;&#1072; &#1074; &#1087;&#1086;&#1076;&#1086;&#1090;&#1088;&#1103;&#1076;&#1077; &#1080;&#1083;&#1080; &#1086;&#1090;&#1088;&#1103;&#1076;&#1077; STREPSIRHINI</p>\\n\\t<p lang=\"ru-RU\" class=\"western\" align=\"center\" style=\"margin-bottom: 0in\">\\n\\t=(&#1091;&#1089;&#1090;&#1072;&#1088;.) &#1087;&#1086;&#1076;&#1089;&#1077;&#1084;. &#1074; LEMURIFORMES))</p>\\n\\t<p lang=\"ru-RU\" class=\"western\" align=\"center\" style=\"margin-bottom: 0in\">\\n\\t(&#1058;&#1059;&#1055;&#1040;&#1049;&#1048;, tree shrews)</p>\\n\\t<p lang=\"ru-RU\" class=\"western\" style=\"margin-bottom: 0in\"><br/>\\n\\n\\t</p>\\n\\t<p class=\"western\" align=\"center\" style=\"margin-bottom: 0in\">---------------------------------------------------------------------------</p>\\n\\t<p lang=\"ru-RU\" class=\"western\" align=\"center\" style=\"margin-bottom: 0in\">\\n\\t&#1089;&#1077;&#1084;. <b>Tupaiidae</b>\\n\\tMivart, 1868 (Gray, 1825)</p>\\n\\t<p lang=\"ru-RU\" class=\"western\" align=\"center\" style=\"margin-bottom: 0in\">\\n\\t (=Cladobatae =Cladobatida =Cladobatidina\\n\\t=Cladobatina =Glisoricina =Glisoricinae =Tupaiadae =Tupaina Gray,\\n\\t1825 =Tupajadae =Tupayae =Tupayidae</p>\\n\\t<p lang=\"ru-RU\" class=\"western\" align=\"center\" style=\"margin-bottom: 0in\">\\n\\t<font color=\"#131413\"><font size=\"2\" style=\"font-size: 10pt\">&#1074;&#1082;&#1083;&#1102;&#1095;&#1072;&#1083;&#1086;&#1089;&#1100;\\n\\t&#1074; &#1085;&#1072;&#1076;&#1089;&#1077;&#1084;. </font></font><font color=\"#131413\"><font size=\"2\" style=\"font-size: 10pt\">Tupaioidea\\n\\t</font></font><font color=\"#131413\"><font size=\"2\" style=\"font-size: 10pt\">&#1087;&#1086;&#1076;&#1086;&#1090;&#1088;&#1103;&#1076;&#1072;\\n\\t</font></font><font color=\"#131413\"><font size=\"2\" style=\"font-size: 10pt\">Proteutheria\\n\\t</font></font><font color=\"#131413\"><font size=\"2\" style=\"font-size: 10pt\">&#1086;&#1090;&#1088;&#1103;&#1076;&#1072;\\n\\tINSECTIVORA</font></font><font color=\"#131413\"><font size=\"2\" style=\"font-size: 10pt\">\\n\\t</font></font><font color=\"#131413\"><font size=\"2\" style=\"font-size: 10pt\">&#1087;&#1086;\\n\\tVan Valen, 1967</font></font>)</p>\\n\\t<p lang=\"ru-RU\" class=\"western\" align=\"center\" style=\"margin-bottom: 0in\">\\n\\t(&#1058;&#1091;&#1087;&#1072;&#1081;&#1077;&#1074;&#1099;&#1077;,\\n\\ttree shrews)</p>\\n\\t<p class=\"western\" align=\"center\" style=\"margin-bottom: 0in\">2133/3133</p>\\n\\t<p class=\"western\" align=\"center\" style=\"margin-bottom: 0in\">--------------------------------------------------------------------------------------------------------------------------------------</p>\\n\\t<p class=\"western\" align=\"center\" style=\"margin-bottom: 0in\">---------------*****---------------</p>\\n\\t<p lang=\"ru-RU\" class=\"western\" align=\"center\" style=\"margin-bottom: 0in\">\\n\\t&#1087;&#1086;&#1076;&#1089;&#1077;&#1084;. <b>Tupaiinae</b>\\n\\tLyon, 1913 (Gray, 1825)</p>\\n\\t<p lang=\"ru-RU\" class=\"western\" align=\"center\" style=\"margin-bottom: 0in\">\\n\\t(=Cladobatina Bonaparte, 1838 =Glisoricina Pomel, 1848)</p>\\n\\t<p lang=\"ru-RU\" class=\"western\" align=\"center\" style=\"margin-bottom: 0in\">\\n\\t----------------------------------------------------------------------</p>\\n\\t\\n\\t\\t<col width=\"246\"/>\\n\\t\\t<col width=\"236\"/>\\n\\t\\t<col width=\"270\"/>\\n\\t\\t<tr valign=\"top\">\\n\\t\\t\\t<td width=\"246\" style=\"border-top: 1px solid #000000; border-bottom: 1px solid #000000; border-left: 1px solid #000000; border-right: none; padding-top: 0in; padding-bottom: 0in; padding-left: 0.05in; padding-right: 0in\">\\n\\t\\t\\t\\t<p lang=\"ru-RU\" class=\"western\" align=\"center\" style=\"margin-bottom: 0in\"><a name=\"Gattung1\"/>\\n\\t\\t\\t\\tAnathana Lyon, 1913</p>\\n\\t\\t\\t\\t<p lang=\"ru-RU\" class=\"western\" align=\"center\">(&#1080;&#1085;&#1076;&#1080;&#1081;&#1089;&#1082;&#1072;&#1103;\\n\\t\\t\\t\\t&#1090;&#1091;&#1087;&#1072;&#1081;&#1103;, Indian tree shrew)</p>\\n\\t\\t\\t</td>\\n\\t\\t\\t<td width=\"236\" style=\"border-top: 1px solid #000000; border-bottom: 1px solid #000000; border-left: 1px solid #000000; border-right: none; padding-top: 0in; padding-bottom: 0in; padding-left: 0.05in; padding-right: 0in\">\\n\\t\\t\\t\\t<p lang=\"ru-RU\" class=\"western\">&#1089;&#1086;&#1074;&#1088;. &#1089;.&#1048;&#1085;&#1076;&#1080;&#1103;, &#1085;&#1072;\\n\\t\\t\\t\\t&#1089;&#1077;&#1074;&#1077;&#1088; &#1076;&#1086; &#1048;&#1085;&#1076;&#1072;</p>\\n\\t\\t\\t</td>\\n\\t\\t\\t<td width=\"270\" style=\"border: 1px solid #000000; padding: 0in 0.05in\">\\n\\t\\t\\t\\t<p lang=\"ru-RU\" class=\"western\"><br/>\\n\\n\\t\\t\\t\\t</p>\\n\\t\\t\\t</td>\\n\\t\\t</tr>\\n\\t\\t<tr valign=\"top\">\\n\\t\\t\\t<td width=\"246\" style=\"border-top: 1px solid #000000; border-bottom: 1px solid #000000; border-left: 1px solid #000000; border-right: none; padding-top: 0in; padding-bottom: 0in; padding-left: 0.05in; padding-right: 0in\">\\n\\t\\t\\t\\t<p lang=\"ru-RU\" class=\"western\" style=\"margin-bottom: 0in\">Anathana\\n\\t\\t\\t\\tellioti (Waterhouse, 1850 (&#1086;&#1096;&#1080;&#1073;&#1086;&#1095;&#1085;&#1086;\\n\\t\\t\\t\\t1849))</p>\\n\\t\\t\\t\\t<p lang=\"ru-RU\" class=\"western\" style=\"margin-bottom: 0in\">(&#1080;&#1085;&#1076;&#1080;&#1081;&#1089;&#1082;&#1072;&#1103;\\n\\t\\t\\t\\t&#1090;&#1091;&#1087;&#1072;&#1081;&#1103;, &#1069;&#1083;&#1083;&#1080;&#1086;&#1090;&#1086;&#1074;&#1072; &#1090;&#1091;&#1087;&#1072;&#1081;&#1103;, Indian\\n\\t\\t\\t\\ttree shrew,\\n\\t\\t\\t\\tMadras Tree\\n\\t\\t\\t\\tShrew)</p>\\n\\t\\t\\t\\t<p lang=\"ru-RU\" class=\"western\">(&#1085;&#1077;&#1090; &#1087;&#1086;&#1076;&#1074;&#1080;&#1076;&#1086;&#1074;)</p>\\n\\t\\t\\t</td>\\n\\t\\t\\t<td width=\"236\" style=\"border-top: 1px solid #000000; border-bottom: 1px solid #000000; border-left: 1px solid #000000; border-right: none; padding-top: 0in; padding-bottom: 0in; padding-left: 0.05in; padding-right: 0in\">\\n\\t\\t\\t\\t<p lang=\"ru-RU\" class=\"western\">&#1089;&#1086;&#1074;&#1088;. &#1089;.&#1048;&#1085;&#1076;&#1080;&#1103;, &#1102;&#1078;&#1085;&#1077;&#1077;\\n\\t\\t\\t\\t&#1088;&#1077;&#1082;&#1080; &#1043;&#1072;&#1085;&#1075; (Ganges River),\\n\\t\\t\\t\\t&#1085;&#1072; &#1089;&#1077;&#1074;&#1077;&#1088; &#1076;&#1086; &#1048;&#1085;&#1076;&#1072;</p>\\n\\t\\t\\t</td>\\n\\t\\t\\t<td width=\"270\" style=\"border: 1px solid #000000; padding: 0in 0.05in\">\\n\\t\\t\\t\\t<p lang=\"ru-RU\" class=\"western\" style=\"margin-bottom: 0in\">2133/3133</p>\\n\\t\\t\\t\\t<p lang=\"ru-RU\" class=\"western\" style=\"margin-bottom: 0in\">16-18,5+16,5-19,5-20\\n\\t\\t\\t\\t&#1089;&#1084;</p>\\n\\t\\t\\t\\t<p lang=\"ru-RU\" class=\"western\">&#1074;&#1089;&#1077;&#1103;&#1076;&#1085;&#1072;&#1103;</p>\\n\\t\\t\\t</td>\\n\\t\\t</tr>\\n\\t\\t<tr valign=\"top\">\\n\\t\\t\\t<td width=\"246\" style=\"border-top: none; border-bottom: 1px solid #000000; border-left: 1px solid #000000; border-right: none; padding-top: 0in; padding-bottom: 0in; padding-left: 0.05in; padding-right: 0in\">\\n\\t\\t\\t\\t<p lang=\"ru-RU\" class=\"western\">Anathana\\n\\t\\t\\t\\tellioti ellioti</p>\\n\\t\\t\\t</td>\\n\\t\\t\\t<td width=\"236\" style=\"border-top: none; border-bottom: 1px solid #000000; border-left: 1px solid #000000; border-right: none; padding-top: 0in; padding-bottom: 0in; padding-left: 0.05in; padding-right: 0in\">\\n\\t\\t\\t\\t<p lang=\"ru-RU\" class=\"western\">Eastern Ghats, Madras</p>\\n\\t\\t\\t</td>\\n\\t\\t\\t<td width=\"270\" style=\"border-top: none; border-bottom: 1px solid #000000; border-left: 1px solid #000000; border-right: 1px solid #000000; padding: 0in 0.05in\">\\n\\t\\t\\t\\t<p lang=\"ru-RU\" class=\"western\">&#1094;&#1074;&#1077;&#1090; &#1093;&#1074;&#1086;&#1089;&#1090;&#1072; &#1082;&#1072;&#1082; &#1094;&#1074;&#1077;&#1090;\\n\\t\\t\\t\\t&#1089;&#1087;&#1080;&#1085;&#1099;, the ground colour above being reddish-brown while the\\n\\t\\t\\t\\tfeet and hind legs are buff or ochraceous</p>\\n\\t\\t\\t</td>\\n\\t\\t</tr>\\n\\t\\t<tr valign=\"top\">\\n\\t\\t\\t<td width=\"246\" style=\"border-top: none; border-bottom: 1px solid #000000; border-left: 1px solid #000000; border-right: none; padding-top: 0in; padding-bottom: 0in; padding-left: 0.05in; padding-right: 0in\">\\n\\t\\t\\t\\t<p lang=\"ru-RU\" class=\"western\">Anathana\\n\\t\\t\\t\\tellioti pallida</p>\\n\\t\\t\\t</td>\\n\\t\\t\\t<td width=\"236\" style=\"border-top: none; border-bottom: 1px solid #000000; border-left: 1px solid #000000; border-right: none; padding-top: 0in; padding-bottom: 0in; padding-left: 0.05in; padding-right: 0in\">\\n\\t\\t\\t\\t<p lang=\"ru-RU\" class=\"western\">Manbhum, Bengal</p>\\n\\t\\t\\t</td>\\n\\t\\t\\t<td width=\"270\" style=\"border-top: none; border-bottom: 1px solid #000000; border-left: 1px solid #000000; border-right: 1px solid #000000; padding: 0in 0.05in\">\\n\\t\\t\\t\\t<p lang=\"ru-RU\" class=\"western\">colour of body above\\n\\t\\t\\t\\treddish-brown and the feet and hind legs grizzled buffy; &#1094;&#1074;&#1077;&#1090;\\n\\t\\t\\t\\t&#1093;&#1074;&#1086;&#1089;&#1090;&#1072; &#1086;&#1090;&#1083;&#1080;&#1095;&#1072;&#1077;&#1090;&#1089;&#1103; &#1086;&#1090; &#1094;&#1074;&#1077;&#1090;&#1072; &#1089;&#1087;&#1080;&#1085;&#1099;</p>\\n\\t\\t\\t</td>\\n\\t\\t</tr>\\n\\t\\t<tr valign=\"top\">\\n\\t\\t\\t<td width=\"246\" style=\"border-top: none; border-bottom: 1px solid #000000; border-left: 1px solid #000000; border-right: none; padding-top: 0in; padding-bottom: 0in; padding-left: 0.05in; padding-right: 0in\">\\n\\t\\t\\t\\t<p lang=\"ru-RU\" class=\"western\">Anathana\\n\\t\\t\\t\\tellioti wroughtoni</p>\\n\\t\\t\\t</td>\\n\\t\\t\\t<td width=\"236\" style=\"border-top: none; border-bottom: 1px solid #000000; border-left: 1px solid #000000; border-right: none; padding-top: 0in; padding-bottom: 0in; padding-left: 0.05in; padding-right: 0in\">\\n\\t\\t\\t\\t<p lang=\"ru-RU\" class=\"western\">Mandvi, Surat</p>\\n\\t\\t\\t</td>\\n\\t\\t\\t<td width=\"270\" style=\"border-top: none; border-bottom: 1px solid #000000; border-left: 1px solid #000000; border-right: 1px solid #000000; padding: 0in 0.05in\">\\n\\t\\t\\t\\t<p lang=\"ru-RU\" class=\"western\">colour of body above dull\\n\\t\\t\\t\\tgrizzled brownish and the feet and hind legs grizzled greyish;\\n\\t\\t\\t\\t&#1094;&#1074;&#1077;&#1090; &#1093;&#1074;&#1086;&#1089;&#1090;&#1072; &#1086;&#1090;&#10'"
     ]
    }
   ],
   "source": [
    "HTML(etree.tostring(doc)[:30000])"
   ]
  },
  {
   "cell_type": "code",
   "execution_count": null,
   "metadata": {},
   "outputs": [],
   "source": []
  },
  {
   "cell_type": "code",
   "execution_count": null,
   "metadata": {},
   "outputs": [],
   "source": []
  },
  {
   "cell_type": "code",
   "execution_count": null,
   "metadata": {},
   "outputs": [],
   "source": [
    "outHtml.write(HTML(etree.tostring(doc)[:30000]))\n",
    "#display(HTML(sourceHtml.read()[:30000] ))"
   ]
  },
  {
   "cell_type": "code",
   "execution_count": null,
   "metadata": {},
   "outputs": [],
   "source": []
  },
  {
   "cell_type": "code",
   "execution_count": null,
   "metadata": {},
   "outputs": [],
   "source": []
  },
  {
   "cell_type": "code",
   "execution_count": null,
   "metadata": {},
   "outputs": [],
   "source": []
  },
  {
   "cell_type": "code",
   "execution_count": null,
   "metadata": {},
   "outputs": [],
   "source": []
  },
  {
   "cell_type": "code",
   "execution_count": null,
   "metadata": {},
   "outputs": [],
   "source": []
  },
  {
   "cell_type": "code",
   "execution_count": null,
   "metadata": {},
   "outputs": [],
   "source": []
  },
  {
   "cell_type": "code",
   "execution_count": null,
   "metadata": {},
   "outputs": [],
   "source": []
  },
  {
   "cell_type": "code",
   "execution_count": null,
   "metadata": {},
   "outputs": [],
   "source": []
  },
  {
   "cell_type": "code",
   "execution_count": null,
   "metadata": {},
   "outputs": [],
   "source": []
  },
  {
   "cell_type": "code",
   "execution_count": null,
   "metadata": {},
   "outputs": [],
   "source": []
  },
  {
   "cell_type": "code",
   "execution_count": null,
   "metadata": {},
   "outputs": [],
   "source": []
  },
  {
   "cell_type": "code",
   "execution_count": null,
   "metadata": {},
   "outputs": [],
   "source": []
  },
  {
   "cell_type": "code",
   "execution_count": null,
   "metadata": {},
   "outputs": [],
   "source": []
  },
  {
   "cell_type": "code",
   "execution_count": null,
   "metadata": {},
   "outputs": [],
   "source": []
  },
  {
   "cell_type": "code",
   "execution_count": null,
   "metadata": {},
   "outputs": [],
   "source": []
  },
  {
   "cell_type": "code",
   "execution_count": null,
   "metadata": {},
   "outputs": [],
   "source": []
  },
  {
   "cell_type": "code",
   "execution_count": null,
   "metadata": {},
   "outputs": [],
   "source": []
  },
  {
   "cell_type": "code",
   "execution_count": null,
   "metadata": {},
   "outputs": [],
   "source": []
  },
  {
   "cell_type": "code",
   "execution_count": null,
   "metadata": {},
   "outputs": [],
   "source": []
  }
 ],
 "metadata": {
  "kernelspec": {
   "display_name": "Python 3",
   "language": "python",
   "name": "python3"
  },
  "language_info": {
   "codemirror_mode": {
    "name": "ipython",
    "version": 3
   },
   "file_extension": ".py",
   "mimetype": "text/x-python",
   "name": "python",
   "nbconvert_exporter": "python",
   "pygments_lexer": "ipython3",
   "version": "3.6.4"
  }
 },
 "nbformat": 4,
 "nbformat_minor": 2
}
